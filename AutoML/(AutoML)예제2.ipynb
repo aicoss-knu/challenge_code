{
  "cells": [
    {
      "cell_type": "markdown",
      "id": "439c5047-a9f5-4243-8d59-dc61819a36e5",
      "metadata": {
        "id": "439c5047-a9f5-4243-8d59-dc61819a36e5"
      },
      "source": [
        "예제 2. Grid Search로 HyperParameter 튜닝하기\n",
        "=============================="
      ]
    },
    {
      "cell_type": "code",
      "execution_count": null,
      "id": "c49cc388-a644-4640-bb1f-7a1fa34827ae",
      "metadata": {
        "id": "c49cc388-a644-4640-bb1f-7a1fa34827ae"
      },
      "outputs": [],
      "source": [
        "from sklearn.datasets import load_breast_cancer\n",
        "from sklearn.model_selection import train_test_split\n",
        "import numpy as np\n",
        "import matplotlib.pyplot as plt\n",
        "import pandas as pd\n",
        "from xgboost import XGBClassifier\n",
        "from sklearn.metrics import accuracy_score\n",
        "from sklearn.metrics import confusion_matrix\n",
        "from sklearn.metrics import plot_confusion_matrix"
      ]
    },
    {
      "cell_type": "code",
      "execution_count": null,
      "id": "5566c2ab-4e5f-413c-b4d5-3578f4dc2e1e",
      "metadata": {
        "id": "5566c2ab-4e5f-413c-b4d5-3578f4dc2e1e"
      },
      "outputs": [],
      "source": [
        "cancer = load_breast_cancer()"
      ]
    },
    {
      "cell_type": "code",
      "execution_count": null,
      "id": "5bba9f4e-87b5-4dbe-83f1-df7829ab384c",
      "metadata": {
        "id": "5bba9f4e-87b5-4dbe-83f1-df7829ab384c"
      },
      "outputs": [],
      "source": [
        "# DataFrame으로 만들기\n",
        "x_data = pd.DataFrame(cancer.data, columns = cancer.feature_names)\n",
        "y_data = pd.DataFrame(cancer.target)\n",
        "\n",
        "x_data, x_test, y_data, y_test =  train_test_split(x_data, y_data, test_size=0.1, shuffle=False)\n",
        "x_train, x_val, y_train, y_val =  train_test_split(x_data, y_data, test_size=0.1, shuffle=True, stratify = y_data, random_state=34)"
      ]
    },
    {
      "cell_type": "code",
      "execution_count": null,
      "id": "100fe38b-8ea9-4d17-98e7-036607d320e6",
      "metadata": {
        "colab": {
          "base_uri": "https://localhost:8080/"
        },
        "id": "100fe38b-8ea9-4d17-98e7-036607d320e6",
        "outputId": "7d62201b-8f5e-471b-cefc-e40d8eedc81b"
      },
      "outputs": [
        {
          "output_type": "stream",
          "name": "stderr",
          "text": [
            "/usr/local/lib/python3.8/dist-packages/sklearn/preprocessing/_label.py:98: DataConversionWarning: A column-vector y was passed when a 1d array was expected. Please change the shape of y to (n_samples, ), for example using ravel().\n",
            "  y = column_or_1d(y, warn=True)\n",
            "/usr/local/lib/python3.8/dist-packages/sklearn/preprocessing/_label.py:133: DataConversionWarning: A column-vector y was passed when a 1d array was expected. Please change the shape of y to (n_samples, ), for example using ravel().\n",
            "  y = column_or_1d(y, warn=True)\n"
          ]
        },
        {
          "output_type": "stream",
          "name": "stdout",
          "text": [
            "{'learning_rate': 0.1, 'max_depth': 5, 'n_estimators': 250}\n"
          ]
        }
      ],
      "source": [
        "from sklearn.model_selection import GridSearchCV\n",
        "\n",
        "cv_params = {\n",
        "    'max_depth' : np.arange(1, 6, 1),\n",
        "    'learning_rate':np.arange(0.05, 0.6, 0.05),\n",
        "    'n_estimators':np.arange(50,300,50)\n",
        "}\n",
        "\n",
        "grid_model = GridSearchCV(XGBClassifier(),\n",
        "                                cv_params,\n",
        "                                scoring = 'precision',\n",
        "                                cv =5,\n",
        "                                n_jobs = 5)\n",
        "\n",
        "grid_model.fit(x_train,y_train)\n",
        "print(grid_model.best_params_)"
      ]
    },
    {
      "cell_type": "code",
      "execution_count": null,
      "id": "5c5e9d2e-b69e-4908-90d8-c1e76293047d",
      "metadata": {
        "colab": {
          "base_uri": "https://localhost:8080/"
        },
        "id": "5c5e9d2e-b69e-4908-90d8-c1e76293047d",
        "outputId": "940a1159-a9c0-4794-d4cb-f87436c482b4"
      },
      "outputs": [
        {
          "output_type": "execute_result",
          "data": {
            "text/plain": [
              "XGBClassifier(gpu_id=0, max_depth=5, n_estimators=250)"
            ]
          },
          "metadata": {},
          "execution_count": 5
        }
      ],
      "source": [
        "model = XGBClassifier(max_depth=5, n_estimators=250, learning_rate =  0.1, gpu_id = 0)\n",
        "model.fit(x_train,y_train)"
      ]
    },
    {
      "cell_type": "code",
      "execution_count": null,
      "id": "1438a9d5-c7e9-4413-9e1b-1ddbcc9cbbef",
      "metadata": {
        "colab": {
          "base_uri": "https://localhost:8080/",
          "height": 395
        },
        "id": "1438a9d5-c7e9-4413-9e1b-1ddbcc9cbbef",
        "outputId": "4438e3ea-eea6-4840-f6de-8e32bda8662d"
      },
      "outputs": [
        {
          "output_type": "stream",
          "name": "stdout",
          "text": [
            "Validation Accuracy: 94.23%\n",
            "Precision : 0.938\n",
            "Recall : 0.968\n"
          ]
        },
        {
          "output_type": "stream",
          "name": "stderr",
          "text": [
            "/usr/local/lib/python3.8/dist-packages/sklearn/utils/deprecation.py:87: FutureWarning: Function plot_confusion_matrix is deprecated; Function `plot_confusion_matrix` is deprecated in 1.0 and will be removed in 1.2. Use one of the class methods: ConfusionMatrixDisplay.from_predictions or ConfusionMatrixDisplay.from_estimator.\n",
            "  warnings.warn(msg, category=FutureWarning)\n"
          ]
        },
        {
          "output_type": "display_data",
          "data": {
            "text/plain": [
              "<Figure size 432x288 with 2 Axes>"
            ],
            "image/png": "[encoded data removed]"
          },
          "metadata": {
            "needs_background": "light"
          }
        }
      ],
      "source": [
        "plot_confusion_matrix(model, x_val, y_val, cmap = plt.cm.Blues)  \n",
        "\n",
        "y_pred = model.predict(x_val)\n",
        "predictions = [np.round(value) for value in y_pred]\n",
        "accuracy = accuracy_score(y_val, predictions)\n",
        "\n",
        "cm = confusion_matrix(predictions, y_val)\n",
        "tp = cm[1, 1]\n",
        "fn = cm[1, 0]\n",
        "fp = cm[0, 1]\n",
        "tn = cm[0, 0]\n",
        "\n",
        "print('Validation Accuracy: %.2f%%' % (accuracy * 100.0))\n",
        "print('Precision : {:.3f}'.format(tp / (tp + fp)))\n",
        "print('Recall : {:.3f}'.format(tp / (tp + fn)))"
      ]
    },
    {
      "cell_type": "code",
      "execution_count": null,
      "id": "99efec2f-af02-45f0-8c89-c208d0592a25",
      "metadata": {
        "colab": {
          "base_uri": "https://localhost:8080/",
          "height": 391
        },
        "id": "99efec2f-af02-45f0-8c89-c208d0592a25",
        "outputId": "6d4bbdd5-fe22-4669-a3a6-97d183eca3a7"
      },
      "outputs": [
        {
          "output_type": "stream",
          "name": "stderr",
          "text": [
            "/usr/local/lib/python3.8/dist-packages/sklearn/utils/deprecation.py:87: FutureWarning: Function plot_confusion_matrix is deprecated; Function `plot_confusion_matrix` is deprecated in 1.0 and will be removed in 1.2. Use one of the class methods: ConfusionMatrixDisplay.from_predictions or ConfusionMatrixDisplay.from_estimator.\n",
            "  warnings.warn(msg, category=FutureWarning)\n"
          ]
        },
        {
          "output_type": "stream",
          "name": "stdout",
          "text": [
            "Test Accuracy: 100.00%\n",
            "Precision : 1.000\n",
            "Recall : 1.000\n"
          ]
        },
        {
          "output_type": "display_data",
          "data": {
            "text/plain": [
              "<Figure size 432x288 with 2 Axes>"
            ],
            "image/png": "[encoded data removed]"
          },
          "metadata": {
            "needs_background": "light"
          }
        }
      ],
      "source": [
        "plot_confusion_matrix(model, x_test, y_test, cmap = plt.cm.Blues)  \n",
        "\n",
        "y_pred = model.predict(x_test)\n",
        "predictions = [np.round(value) for value in y_pred]\n",
        "accuracy = accuracy_score(y_test, predictions)\n",
        "\n",
        "\n",
        "cm = confusion_matrix(predictions, y_test)\n",
        "tp = cm[1, 1]\n",
        "fn = cm[1, 0]\n",
        "fp = cm[0, 1]\n",
        "tn = cm[0, 0]\n",
        "\n",
        "print('Test Accuracy: %.2f%%' % (accuracy * 100.0))\n",
        "print('Precision : {:.3f}'.format(tp / (tp + fp)))\n",
        "print('Recall : {:.3f}'.format(tp / (tp + fn)))"
      ]
    },
    {
      "cell_type": "code",
      "execution_count": null,
      "id": "3ae3f1d5-130a-4aae-affa-d8acac6b2449",
      "metadata": {
        "id": "3ae3f1d5-130a-4aae-affa-d8acac6b2449"
      },
      "outputs": [],
      "source": []
    },
    {
      "cell_type": "code",
      "execution_count": null,
      "id": "cb63fac6-fc2d-4413-a0fc-7a9062eddb2a",
      "metadata": {
        "id": "cb63fac6-fc2d-4413-a0fc-7a9062eddb2a"
      },
      "outputs": [],
      "source": []
    }
  ],
  "metadata": {
    "kernelspec": {
      "display_name": "Python 3 (ipykernel)",
      "language": "python",
      "name": "python3"
    },
    "language_info": {
      "codemirror_mode": {
        "name": "ipython",
        "version": 3
      },
      "file_extension": ".py",
      "mimetype": "text/x-python",
      "name": "python",
      "nbconvert_exporter": "python",
      "pygments_lexer": "ipython3",
      "version": "3.9.12"
    },
    "colab": {
      "provenance": []
    }
  },
  "nbformat": 4,
  "nbformat_minor": 5
}