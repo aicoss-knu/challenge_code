{
  "cells": [
    {
      "cell_type": "markdown",
      "id": "b3930d9a-426d-4a74-879e-c326b8166b00",
      "metadata": {
        "id": "b3930d9a-426d-4a74-879e-c326b8166b00"
      },
      "source": [
        "# 연습문제 2. Deep Learning 모델 HyperParameter 튜닝하기"
      ]
    },
    {
      "cell_type": "code",
      "source": [
        "!pip install bayesian-optimization"
      ],
      "metadata": {
        "colab": {
          "base_uri": "https://localhost:8080/"
        },
        "id": "WXDD0CBztKKi",
        "outputId": "4e4ddb95-cc29-4ceb-8d75-2ab4a35a4412"
      },
      "id": "WXDD0CBztKKi",
      "execution_count": null,
      "outputs": [
        {
          "output_type": "stream",
          "name": "stdout",
          "text": [
            "Looking in indexes: https://pypi.org/simple, https://us-python.pkg.dev/colab-wheels/public/simple/\n",
            "Collecting bayesian-optimization\n",
            "  Downloading bayesian_optimization-1.4.2-py3-none-any.whl (17 kB)\n",
            "Requirement already satisfied: numpy>=1.9.0 in /usr/local/lib/python3.8/dist-packages (from bayesian-optimization) (1.21.6)\n",
            "Requirement already satisfied: scipy>=1.0.0 in /usr/local/lib/python3.8/dist-packages (from bayesian-optimization) (1.7.3)\n",
            "Collecting colorama>=0.4.6\n",
            "  Downloading colorama-0.4.6-py2.py3-none-any.whl (25 kB)\n",
            "Requirement already satisfied: scikit-learn>=0.18.0 in /usr/local/lib/python3.8/dist-packages (from bayesian-optimization) (1.0.2)\n",
            "Requirement already satisfied: joblib>=0.11 in /usr/local/lib/python3.8/dist-packages (from scikit-learn>=0.18.0->bayesian-optimization) (1.2.0)\n",
            "Requirement already satisfied: threadpoolctl>=2.0.0 in /usr/local/lib/python3.8/dist-packages (from scikit-learn>=0.18.0->bayesian-optimization) (3.1.0)\n",
            "Installing collected packages: colorama, bayesian-optimization\n",
            "Successfully installed bayesian-optimization-1.4.2 colorama-0.4.6\n"
          ]
        }
      ]
    },
    {
      "cell_type": "code",
      "execution_count": null,
      "id": "dee599b5-19be-4aeb-b5e3-7d1ee91ea985",
      "metadata": {
        "colab": {
          "base_uri": "https://localhost:8080/"
        },
        "id": "dee599b5-19be-4aeb-b5e3-7d1ee91ea985",
        "outputId": "81baa523-ecec-43b7-bf18-8ee247eb2b1a"
      },
      "outputs": [
        {
          "output_type": "stream",
          "name": "stdout",
          "text": [
            "Using Device: cuda\n"
          ]
        }
      ],
      "source": [
        "from sklearn.datasets import load_breast_cancer\n",
        "from sklearn.model_selection import train_test_split\n",
        "from sklearn.metrics import accuracy_score\n",
        "from sklearn.metrics import confusion_matrix\n",
        "from sklearn.metrics import plot_confusion_matrix\n",
        "\n",
        "import torch\n",
        "import torch.nn as nn\n",
        "from torch.utils.data import TensorDataset, DataLoader\n",
        "from torch.autograd import Variable\n",
        "\n",
        "from tqdm.auto import tqdm\n",
        "import numpy as np\n",
        "import matplotlib.pyplot as plt\n",
        "import pandas as pd\n",
        "import os\n",
        "\n",
        "USE_CUDA = torch.cuda.is_available()\n",
        "device = torch.device(\"cuda\" if USE_CUDA else \"cpu\")\n",
        "print(\"Using Device:\", device)\n",
        "\n",
        "os.environ['CUDA_LAUNCH_BLOCKING'] = \"1\"\n",
        "os.environ[\"CUDA_VISIBLE_DEVICES\"] = \"0\""
      ]
    },
    {
      "cell_type": "code",
      "execution_count": null,
      "id": "672a0261-816c-4aa8-af3c-d5c43a7ae189",
      "metadata": {
        "id": "672a0261-816c-4aa8-af3c-d5c43a7ae189"
      },
      "outputs": [],
      "source": [
        "cancer = load_breast_cancer()"
      ]
    },
    {
      "cell_type": "code",
      "execution_count": null,
      "id": "7e032b4c-7d8c-4c4a-889b-399ce9f04945",
      "metadata": {
        "id": "7e032b4c-7d8c-4c4a-889b-399ce9f04945"
      },
      "outputs": [],
      "source": [
        "# DataFrame으로 만들기\n",
        "x_data = pd.DataFrame(cancer.data, columns = cancer.feature_names)\n",
        "y_data = pd.DataFrame(cancer.target)\n",
        "\n",
        "x_data = (x_data - x_data.mean()) / x_data.std()\n",
        "\n",
        "x_data, x_test, y_data, y_test =  train_test_split(x_data, y_data, test_size=0.1, shuffle=False)\n",
        "x_train, x_val, y_train, y_val =  train_test_split(x_data, y_data, test_size=0.1, shuffle=True, stratify = y_data, random_state=34)"
      ]
    },
    {
      "cell_type": "code",
      "execution_count": null,
      "id": "0b041ed8-3692-4469-bb0f-0582c3059237",
      "metadata": {
        "id": "0b041ed8-3692-4469-bb0f-0582c3059237"
      },
      "outputs": [],
      "source": [
        "def make_torch(x):\n",
        "    return  torch.from_numpy(x.to_numpy().astype(np.float32))\n",
        "\n",
        "trainset = TensorDataset(make_torch(x_train), make_torch(y_train))\n",
        "valset = TensorDataset(make_torch(x_val), make_torch(y_val))\n",
        "testset = TensorDataset(make_torch(x_test), make_torch(y_test))"
      ]
    },
    {
      "cell_type": "code",
      "execution_count": null,
      "id": "c2c8c423-472e-4eb3-9afb-b1ee0b176d99",
      "metadata": {
        "id": "c2c8c423-472e-4eb3-9afb-b1ee0b176d99"
      },
      "outputs": [],
      "source": [
        "class MLP(nn.Module):\n",
        "    def __init__(self, dropout = 0.5):\n",
        "        super(MLP, self).__init__()\n",
        "        self.block1 = nn.Sequential(\n",
        "            nn.Linear(30, 128),\n",
        "            nn.ReLU(),\n",
        "            nn.Dropout(dropout)\n",
        "        )\n",
        "        self.block2 = nn.Sequential(\n",
        "            nn.Linear(128, 256),\n",
        "            nn.ReLU(),\n",
        "            nn.Dropout(dropout)\n",
        "        )\n",
        "        self.block3 = nn.Sequential(\n",
        "            nn.Linear(256, 128),\n",
        "            nn.ReLU(),\n",
        "            nn.Dropout(dropout)\n",
        "        )\n",
        "        self.output = nn.Linear(128, 1)\n",
        "        self.sigmoid = nn.Sigmoid()\n",
        "    def forward(self, x):\n",
        "        x = self.block1(x)\n",
        "        x = self.block2(x)\n",
        "        x = self.block3(x)\n",
        "        y = self.output(x)\n",
        "        return self.sigmoid(y)"
      ]
    },
    {
      "cell_type": "code",
      "execution_count": null,
      "id": "db9cec2b-6834-4070-b5eb-faedcce89c7e",
      "metadata": {
        "colab": {
          "base_uri": "https://localhost:8080/"
        },
        "id": "db9cec2b-6834-4070-b5eb-faedcce89c7e",
        "outputId": "1b4b741f-12c7-442b-f6d6-0f9841f26ab3"
      },
      "outputs": [
        {
          "output_type": "stream",
          "name": "stdout",
          "text": [
            "|   iter    |  target   | batch_... |  dropout  |  epochs   | learni... |\n",
            "-------------------------------------------------------------------------\n"
          ]
        },
        {
          "output_type": "stream",
          "name": "stderr",
          "text": [
            "<ipython-input-8-c6130b9111d7>:49: DeprecationWarning: \n",
            "Passing acquisition function parameters or gaussian process parameters to maximize\n",
            "is no longer supported, and will cause an error in future releases. Instead,\n",
            "please use the \"set_gp_params\" method to set the gp params, and pass an instance\n",
            " of bayes_opt.util.UtilityFunction using the acquisition_function argument\n",
            "\n",
            "  mlp_bo.maximize(init_points=3, n_iter=5, acq='ei')\n"
          ]
        },
        {
          "output_type": "stream",
          "name": "stdout",
          "text": [
            "| \u001b[0m1        \u001b[0m | \u001b[0m94.23    \u001b[0m | \u001b[0m204.5    \u001b[0m | \u001b[0m0.5857   \u001b[0m | \u001b[0m7.834    \u001b[0m | \u001b[0m0.07301  \u001b[0m |\n",
            "| \u001b[0m2        \u001b[0m | \u001b[0m38.46    \u001b[0m | \u001b[0m367.4    \u001b[0m | \u001b[0m0.5489   \u001b[0m | \u001b[0m8.569    \u001b[0m | \u001b[0m0.09327  \u001b[0m |\n",
            "| \u001b[0m3        \u001b[0m | \u001b[0m13.46    \u001b[0m | \u001b[0m131.1    \u001b[0m | \u001b[0m0.3247   \u001b[0m | \u001b[0m8.547    \u001b[0m | \u001b[0m0.01513  \u001b[0m |\n",
            "| \u001b[95m4        \u001b[0m | \u001b[95m96.15    \u001b[0m | \u001b[95m205.5    \u001b[0m | \u001b[95m0.6104   \u001b[0m | \u001b[95m8.255    \u001b[0m | \u001b[95m0.06427  \u001b[0m |\n",
            "| \u001b[0m5        \u001b[0m | \u001b[0m1.923    \u001b[0m | \u001b[0m242.5    \u001b[0m | \u001b[0m0.7      \u001b[0m | \u001b[0m10.0     \u001b[0m | \u001b[0m0.01     \u001b[0m |\n",
            "| \u001b[95m6        \u001b[0m | \u001b[95m98.08    \u001b[0m | \u001b[95m500.0    \u001b[0m | \u001b[95m0.5403   \u001b[0m | \u001b[95m9.601    \u001b[0m | \u001b[95m0.09131  \u001b[0m |\n",
            "| \u001b[0m7        \u001b[0m | \u001b[0m38.46    \u001b[0m | \u001b[0m479.9    \u001b[0m | \u001b[0m0.3777   \u001b[0m | \u001b[0m8.359    \u001b[0m | \u001b[0m0.08425  \u001b[0m |\n",
            "| \u001b[0m8        \u001b[0m | \u001b[0m1.923    \u001b[0m | \u001b[0m179.6    \u001b[0m | \u001b[0m0.7      \u001b[0m | \u001b[0m10.0     \u001b[0m | \u001b[0m0.01     \u001b[0m |\n",
            "=========================================================================\n"
          ]
        }
      ],
      "source": [
        "from bayes_opt import BayesianOptimization\n",
        "def evaluate(epochs, batch_size, learning_rate, dropout):\n",
        "    epochs = int(epochs)\n",
        "    batch_size = int(batch_size)\n",
        "    \n",
        "    \n",
        "    trainloader = DataLoader(dataset = trainset, batch_size = batch_size, shuffle = True, num_workers = 2)\n",
        "    valloader = DataLoader(dataset = valset, batch_size = batch_size, shuffle = True, num_workers = 2)\n",
        "    testloader = DataLoader(dataset = testset, batch_size = batch_size, shuffle = True, num_workers = 2)\n",
        "    \n",
        "    model = MLP(dropout).to(device)\n",
        "    model.train()\n",
        "    optimizer = torch.optim.Adam(model.parameters(), lr=learning_rate) \n",
        "    criterion = nn.BCELoss()\n",
        "    \n",
        "    for epoch in range(1, epochs+1):\n",
        "        loss_value = 0\n",
        "        for step, (x, y) in enumerate(trainloader):\n",
        "            model.train()\n",
        "            x = x.to(device)\n",
        "            y = y.to(device)\n",
        "\n",
        "            pred = model(x)\n",
        "\n",
        "            loss = criterion(pred, y)\n",
        "            loss_value += loss.item()\n",
        "            optimizer.zero_grad()\n",
        "\n",
        "            loss.backward()\n",
        "            optimizer.step()\n",
        "        correct = 0\n",
        "        total = 0\n",
        "        for step, (x, y) in enumerate(valloader):\n",
        "            \n",
        "            model.eval()\n",
        "            with torch.no_grad():\n",
        "                x = x.to(device)\n",
        "                pred = model(x)\n",
        "                correct += (pred.detach().cpu() == y).sum()\n",
        "                total += len(y)\n",
        "            accuracy = correct * 100 / total\n",
        "    return accuracy\n",
        "\n",
        "\n",
        "mlp_bo = BayesianOptimization(evaluate, {'epochs':(5,10),\n",
        "                                           'batch_size':(100,500),\n",
        "                                           'learning_rate':(0.01, 0.1),\n",
        "                                           'dropout':(0.1,0.7)})\n",
        "mlp_bo.maximize(init_points=3, n_iter=5, acq='ei')"
      ]
    },
    {
      "cell_type": "code",
      "execution_count": null,
      "id": "d10d5d55-edc6-4937-9718-cf86501f54e8",
      "metadata": {
        "colab": {
          "base_uri": "https://localhost:8080/"
        },
        "id": "d10d5d55-edc6-4937-9718-cf86501f54e8",
        "outputId": "872d7892-7797-4186-c474-bb1d042126a8"
      },
      "outputs": [
        {
          "output_type": "stream",
          "name": "stdout",
          "text": [
            "Epoch :  1 , Loss :  10.446486473083496 Accuracy 61.53845977783203 %\n",
            "Epoch :  2 , Loss :  1.488213300704956 Accuracy 86.53845977783203 %\n",
            "Epoch :  3 , Loss :  8.2781343460083 Accuracy 88.46154022216797 %\n",
            "Epoch :  4 , Loss :  6.0 Accuracy 92.30769348144531 %\n",
            "Epoch :  5 , Loss :  4.000000953674316 Accuracy 96.15384674072266 %\n",
            "Epoch :  6 , Loss :  8.0 Accuracy 96.15384674072266 %\n",
            "Epoch :  7 , Loss :  4.0 Accuracy 96.15384674072266 %\n",
            "Epoch :  8 , Loss :  12.0 Accuracy 96.15384674072266 %\n"
          ]
        }
      ],
      "source": [
        "epochs = 8\n",
        "batch_size = 205\n",
        "learning_rate = 0.06427 \n",
        "dropout = 0.6104\n",
        "\n",
        "trainloader = DataLoader(dataset = trainset, batch_size = batch_size, shuffle = True, num_workers = 2)\n",
        "valloader = DataLoader(dataset = valset, batch_size = batch_size, shuffle = True, num_workers = 2)\n",
        "testloader = DataLoader(dataset = testset, batch_size = batch_size, shuffle = True, num_workers = 2)\n",
        "\n",
        "model = MLP(dropout).to(device)\n",
        "model.train()\n",
        "optimizer = torch.optim.Adam(model.parameters(), lr=learning_rate) \n",
        "criterion = nn.BCELoss()\n",
        "loss_list = []\n",
        "\n",
        "for epoch in range(1, epochs+1):\n",
        "    loss_value = 0\n",
        "    for step, (x, y) in enumerate(trainloader):\n",
        "        model.train()\n",
        "        x = x.to(device)\n",
        "        y = y.to(device)\n",
        "\n",
        "        pred = model(x)\n",
        "\n",
        "        loss = criterion(pred, y)\n",
        "        loss_value += loss.item()\n",
        "        optimizer.zero_grad()\n",
        "\n",
        "        loss.backward()\n",
        "        optimizer.step()\n",
        "    loss_list.append(loss_value)\n",
        "    \n",
        "    correct = 0\n",
        "    total = 0\n",
        "    for step, (x, y) in enumerate(valloader):\n",
        "\n",
        "        model.eval()\n",
        "        with torch.no_grad():\n",
        "            x = x.to(device)\n",
        "            pred = model(x)\n",
        "            correct += (pred.detach().cpu() == y).sum()\n",
        "            total += len(y)\n",
        "        accuracy = correct * 100 / total\n",
        "    print(\"Epoch : \", epoch, ', Loss : ', loss.item(), 'Accuracy', accuracy.item() , '%')"
      ]
    },
    {
      "cell_type": "code",
      "execution_count": null,
      "id": "1f553405-8690-40d6-81a1-87d5b96856b8",
      "metadata": {
        "colab": {
          "base_uri": "https://localhost:8080/",
          "height": 283
        },
        "id": "1f553405-8690-40d6-81a1-87d5b96856b8",
        "outputId": "d196f508-daf0-4995-af99-4fc0cf024315"
      },
      "outputs": [
        {
          "output_type": "execute_result",
          "data": {
            "text/plain": [
              "[<matplotlib.lines.Line2D at 0x7f84a61780d0>]"
            ]
          },
          "metadata": {},
          "execution_count": 13
        },
        {
          "output_type": "display_data",
          "data": {
            "text/plain": [
              "<Figure size 432x288 with 1 Axes>"
            ],
            "image/png": "[encoded data removed]"
          },
          "metadata": {
            "needs_background": "light"
          }
        }
      ],
      "source": [
        "plt.plot(loss_list)"
      ]
    },
    {
      "cell_type": "code",
      "execution_count": null,
      "id": "d7f61915-c2d3-42dc-b067-6bba98ed737b",
      "metadata": {
        "colab": {
          "base_uri": "https://localhost:8080/"
        },
        "id": "d7f61915-c2d3-42dc-b067-6bba98ed737b",
        "outputId": "b79cc4d4-9213-4128-f3dc-2d1ea27c7a45"
      },
      "outputs": [
        {
          "output_type": "stream",
          "name": "stdout",
          "text": [
            "Validation Accuracy: 98.08%\n"
          ]
        }
      ],
      "source": [
        "with torch.no_grad():\n",
        "    model.eval()\n",
        "    pred = []\n",
        "    for x, y in valset:\n",
        "        x = x.to(device)\n",
        "        pred.append(int(model(x).detach().cpu().item()))\n",
        "accuracy = accuracy_score(y_val, pred)\n",
        "print('Validation Accuracy: %.2f%%' % (accuracy * 100.0))"
      ]
    },
    {
      "cell_type": "code",
      "execution_count": null,
      "id": "47d8a867-d018-45c8-bd44-ed47161530ee",
      "metadata": {
        "colab": {
          "base_uri": "https://localhost:8080/"
        },
        "id": "47d8a867-d018-45c8-bd44-ed47161530ee",
        "outputId": "36d4cf23-58ba-4821-f4eb-964ea5e7b64a"
      },
      "outputs": [
        {
          "output_type": "stream",
          "name": "stdout",
          "text": [
            "Test Accuracy: 96.49%\n"
          ]
        }
      ],
      "source": [
        "with torch.no_grad():\n",
        "    model.eval()\n",
        "    pred = []\n",
        "    for x, y in testset:\n",
        "        x = x.to(device)\n",
        "        pred.append(int(model(x).detach().cpu().item()))\n",
        "accuracy = accuracy_score(y_test, pred)\n",
        "print('Test Accuracy: %.2f%%' % (accuracy * 100.0))"
      ]
    },
    {
      "cell_type": "code",
      "execution_count": null,
      "id": "0072b8d7-6980-4a70-bf46-969407f63ece",
      "metadata": {
        "id": "0072b8d7-6980-4a70-bf46-969407f63ece"
      },
      "outputs": [],
      "source": []
    }
  ],
  "metadata": {
    "kernelspec": {
      "display_name": "Python 3 (ipykernel)",
      "language": "python",
      "name": "python3"
    },
    "language_info": {
      "codemirror_mode": {
        "name": "ipython",
        "version": 3
      },
      "file_extension": ".py",
      "mimetype": "text/x-python",
      "name": "python",
      "nbconvert_exporter": "python",
      "pygments_lexer": "ipython3",
      "version": "3.9.12"
    },
    "colab": {
      "provenance": []
    },
    "accelerator": "GPU",
    "gpuClass": "standard"
  },
  "nbformat": 4,
  "nbformat_minor": 5
}