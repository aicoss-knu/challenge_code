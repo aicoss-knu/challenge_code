{
  "cells": [
    {
      "cell_type": "markdown",
      "id": "439c5047-a9f5-4243-8d59-dc61819a36e5",
      "metadata": {
        "id": "439c5047-a9f5-4243-8d59-dc61819a36e5"
      },
      "source": [
        "예제 1. Random Search로 HyperParameter 튜닝하기\n",
        "=============================="
      ]
    },
    {
      "cell_type": "code",
      "execution_count": null,
      "id": "c6f4a651-3e20-4a61-8625-82153cd4a37c",
      "metadata": {
        "id": "c6f4a651-3e20-4a61-8625-82153cd4a37c"
      },
      "outputs": [],
      "source": [
        "from sklearn.datasets import load_breast_cancer\n",
        "from sklearn.model_selection import train_test_split\n",
        "import numpy as np\n",
        "import matplotlib.pyplot as plt\n",
        "import pandas as pd\n",
        "from xgboost import XGBClassifier\n",
        "from sklearn.metrics import accuracy_score\n",
        "from sklearn.metrics import confusion_matrix\n",
        "from sklearn.metrics import plot_confusion_matrix"
      ]
    },
    {
      "cell_type": "code",
      "execution_count": null,
      "id": "ff7785de-e8b0-4f22-98e7-9f8c24da1dab",
      "metadata": {
        "id": "ff7785de-e8b0-4f22-98e7-9f8c24da1dab"
      },
      "outputs": [],
      "source": [
        "cancer = load_breast_cancer()"
      ]
    },
    {
      "cell_type": "code",
      "execution_count": null,
      "id": "a2fec677-f0cc-452e-8263-73ea91ec48ff",
      "metadata": {
        "id": "a2fec677-f0cc-452e-8263-73ea91ec48ff"
      },
      "outputs": [],
      "source": [
        "# DataFrame으로 만들기\n",
        "x_data = pd.DataFrame(cancer.data, columns = cancer.feature_names)\n",
        "y_data = pd.DataFrame(cancer.target)\n",
        "\n",
        "x_data, x_test, y_data, y_test =  train_test_split(x_data, y_data, test_size=0.1, shuffle=False)\n",
        "x_train, x_val, y_train, y_val =  train_test_split(x_data, y_data, test_size=0.1, shuffle=True, stratify = y_data, random_state=34)"
      ]
    },
    {
      "cell_type": "code",
      "execution_count": null,
      "id": "788bcefb-097f-4caa-8988-691b31967b97",
      "metadata": {
        "colab": {
          "base_uri": "https://localhost:8080/"
        },
        "id": "788bcefb-097f-4caa-8988-691b31967b97",
        "outputId": "72b69507-03e7-49b4-a365-8d53631f372c"
      },
      "outputs": [
        {
          "output_type": "stream",
          "name": "stderr",
          "text": [
            "/usr/local/lib/python3.8/dist-packages/sklearn/preprocessing/_label.py:98: DataConversionWarning: A column-vector y was passed when a 1d array was expected. Please change the shape of y to (n_samples, ), for example using ravel().\n",
            "  y = column_or_1d(y, warn=True)\n",
            "/usr/local/lib/python3.8/dist-packages/sklearn/preprocessing/_label.py:133: DataConversionWarning: A column-vector y was passed when a 1d array was expected. Please change the shape of y to (n_samples, ), for example using ravel().\n",
            "  y = column_or_1d(y, warn=True)\n"
          ]
        },
        {
          "output_type": "stream",
          "name": "stdout",
          "text": [
            "{'n_estimators': 150, 'max_depth': 5, 'learning_rate': 0.5}\n"
          ]
        }
      ],
      "source": [
        "from sklearn.model_selection import RandomizedSearchCV\n",
        "\n",
        "cv_params = {\n",
        "    'max_depth' : np.arange(1, 6, 1),\n",
        "    'learning_rate':np.arange(0.05, 0.6, 0.05),\n",
        "    'n_estimators':np.arange(50,300,50)\n",
        "}\n",
        "\n",
        "rand_model = RandomizedSearchCV(XGBClassifier(),\n",
        "                                cv_params,\n",
        "                                scoring = 'precision',\n",
        "                                cv =5,\n",
        "                                n_jobs = 5)\n",
        "\n",
        "rand_model.fit(x_train,y_train)\n",
        "print(rand_model.best_params_)\n"
      ]
    },
    {
      "cell_type": "code",
      "execution_count": null,
      "id": "947365da-e38f-4214-855b-df3dcf06d0ef",
      "metadata": {
        "colab": {
          "base_uri": "https://localhost:8080/"
        },
        "id": "947365da-e38f-4214-855b-df3dcf06d0ef",
        "outputId": "44385c5d-e502-4a02-d52e-a38a26ead5f3"
      },
      "outputs": [
        {
          "output_type": "execute_result",
          "data": {
            "text/plain": [
              "XGBClassifier(learning_rate=0.5, max_depth=5, n_estimators=150)"
            ]
          },
          "metadata": {},
          "execution_count": 5
        }
      ],
      "source": [
        "model = XGBClassifier(n_estimators = 150, max_depth = 5, learning_rate = 0.5)\n",
        "model.fit(x_train,y_train)"
      ]
    },
    {
      "cell_type": "code",
      "execution_count": null,
      "id": "33eef9a0-984c-4e7b-9545-b8cfbeb793a4",
      "metadata": {
        "colab": {
          "base_uri": "https://localhost:8080/",
          "height": 395
        },
        "id": "33eef9a0-984c-4e7b-9545-b8cfbeb793a4",
        "outputId": "227d07c7-64c7-42ae-e46a-fa8d2b64abe1"
      },
      "outputs": [
        {
          "output_type": "stream",
          "name": "stderr",
          "text": [
            "/usr/local/lib/python3.8/dist-packages/sklearn/utils/deprecation.py:87: FutureWarning: Function plot_confusion_matrix is deprecated; Function `plot_confusion_matrix` is deprecated in 1.0 and will be removed in 1.2. Use one of the class methods: ConfusionMatrixDisplay.from_predictions or ConfusionMatrixDisplay.from_estimator.\n",
            "  warnings.warn(msg, category=FutureWarning)\n"
          ]
        },
        {
          "output_type": "stream",
          "name": "stdout",
          "text": [
            "Validation Accuracy: 94.23%\n",
            "Precision : 0.938\n",
            "Recall : 0.968\n"
          ]
        },
        {
          "output_type": "display_data",
          "data": {
            "text/plain": [
              "<Figure size 432x288 with 2 Axes>"
            ],
            "image/png": "[encoded data removed]"
          },
          "metadata": {
            "needs_background": "light"
          }
        }
      ],
      "source": [
        "plot_confusion_matrix(model, x_val, y_val, cmap = plt.cm.Blues)  \n",
        "\n",
        "y_pred = model.predict(x_val)\n",
        "predictions = [np.round(value) for value in y_pred]\n",
        "accuracy = accuracy_score(y_val, predictions)\n",
        "\n",
        "cm = confusion_matrix(predictions, y_val)\n",
        "tp = cm[1, 1]\n",
        "fn = cm[1, 0]\n",
        "fp = cm[0, 1]\n",
        "tn = cm[0, 0]\n",
        "\n",
        "print('Validation Accuracy: %.2f%%' % (accuracy * 100.0))\n",
        "print('Precision : {:.3f}'.format(tp / (tp + fp)))\n",
        "print('Recall : {:.3f}'.format(tp / (tp + fn)))"
      ]
    },
    {
      "cell_type": "code",
      "execution_count": null,
      "id": "7fc0f9d7-6c2b-4ace-804a-5d592c85fdaf",
      "metadata": {
        "colab": {
          "base_uri": "https://localhost:8080/",
          "height": 391
        },
        "id": "7fc0f9d7-6c2b-4ace-804a-5d592c85fdaf",
        "outputId": "4080ba72-ab62-40b5-bf61-f5cfb70d96ff"
      },
      "outputs": [
        {
          "output_type": "stream",
          "name": "stderr",
          "text": [
            "/usr/local/lib/python3.8/dist-packages/sklearn/utils/deprecation.py:87: FutureWarning: Function plot_confusion_matrix is deprecated; Function `plot_confusion_matrix` is deprecated in 1.0 and will be removed in 1.2. Use one of the class methods: ConfusionMatrixDisplay.from_predictions or ConfusionMatrixDisplay.from_estimator.\n",
            "  warnings.warn(msg, category=FutureWarning)\n"
          ]
        },
        {
          "output_type": "stream",
          "name": "stdout",
          "text": [
            "Test Accuracy: 98.25%\n",
            "Precision : 0.977\n",
            "Recall : 1.000\n"
          ]
        },
        {
          "output_type": "display_data",
          "data": {
            "text/plain": [
              "<Figure size 432x288 with 2 Axes>"
            ],
            "image/png": "[encoded data removed]"
          },
          "metadata": {
            "needs_background": "light"
          }
        }
      ],
      "source": [
        "plot_confusion_matrix(model, x_test, y_test, cmap = plt.cm.Blues)  \n",
        "\n",
        "y_pred = model.predict(x_test)\n",
        "predictions = [np.round(value) for value in y_pred]\n",
        "accuracy = accuracy_score(y_test, predictions)\n",
        "\n",
        "\n",
        "cm = confusion_matrix(predictions, y_test)\n",
        "tp = cm[1, 1]\n",
        "fn = cm[1, 0]\n",
        "fp = cm[0, 1]\n",
        "tn = cm[0, 0]\n",
        "\n",
        "print('Test Accuracy: %.2f%%' % (accuracy * 100.0))\n",
        "print('Precision : {:.3f}'.format(tp / (tp + fp)))\n",
        "print('Recall : {:.3f}'.format(tp / (tp + fn)))"
      ]
    },
    {
      "cell_type": "code",
      "execution_count": null,
      "id": "1c8bb150-4282-4459-9a38-339531d4b20c",
      "metadata": {
        "id": "1c8bb150-4282-4459-9a38-339531d4b20c"
      },
      "outputs": [],
      "source": []
    }
  ],
  "metadata": {
    "kernelspec": {
      "display_name": "Python 3 (ipykernel)",
      "language": "python",
      "name": "python3"
    },
    "language_info": {
      "codemirror_mode": {
        "name": "ipython",
        "version": 3
      },
      "file_extension": ".py",
      "mimetype": "text/x-python",
      "name": "python",
      "nbconvert_exporter": "python",
      "pygments_lexer": "ipython3",
      "version": "3.9.12"
    },
    "colab": {
      "provenance": []
    }
  },
  "nbformat": 4,
  "nbformat_minor": 5
}