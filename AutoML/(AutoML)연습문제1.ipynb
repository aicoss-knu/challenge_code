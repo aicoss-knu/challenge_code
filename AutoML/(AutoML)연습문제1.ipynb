{
  "cells": [
    {
      "cell_type": "markdown",
      "id": "b3930d9a-426d-4a74-879e-c326b8166b00",
      "metadata": {
        "id": "b3930d9a-426d-4a74-879e-c326b8166b00"
      },
      "source": [
        "# 연습문제 1. Bayesian Optimization로 HyperParameter 튜닝하기\n"
      ]
    },
    {
      "cell_type": "code",
      "source": [
        "!pip install bayesian-optimization"
      ],
      "metadata": {
        "colab": {
          "base_uri": "https://localhost:8080/"
        },
        "id": "-3AJhVA6skis",
        "outputId": "aa423905-998c-4334-a97b-d9d050a33d77"
      },
      "id": "-3AJhVA6skis",
      "execution_count": null,
      "outputs": [
        {
          "output_type": "stream",
          "name": "stdout",
          "text": [
            "Looking in indexes: https://pypi.org/simple, https://us-python.pkg.dev/colab-wheels/public/simple/\n",
            "Collecting bayesian-optimization\n",
            "  Downloading bayesian_optimization-1.4.2-py3-none-any.whl (17 kB)\n",
            "Requirement already satisfied: numpy>=1.9.0 in /usr/local/lib/python3.8/dist-packages (from bayesian-optimization) (1.21.6)\n",
            "Requirement already satisfied: scipy>=1.0.0 in /usr/local/lib/python3.8/dist-packages (from bayesian-optimization) (1.7.3)\n",
            "Requirement already satisfied: scikit-learn>=0.18.0 in /usr/local/lib/python3.8/dist-packages (from bayesian-optimization) (1.0.2)\n",
            "Collecting colorama>=0.4.6\n",
            "  Downloading colorama-0.4.6-py2.py3-none-any.whl (25 kB)\n",
            "Requirement already satisfied: threadpoolctl>=2.0.0 in /usr/local/lib/python3.8/dist-packages (from scikit-learn>=0.18.0->bayesian-optimization) (3.1.0)\n",
            "Requirement already satisfied: joblib>=0.11 in /usr/local/lib/python3.8/dist-packages (from scikit-learn>=0.18.0->bayesian-optimization) (1.2.0)\n",
            "Installing collected packages: colorama, bayesian-optimization\n",
            "Successfully installed bayesian-optimization-1.4.2 colorama-0.4.6\n"
          ]
        }
      ]
    },
    {
      "cell_type": "code",
      "execution_count": null,
      "id": "f5204405-6a26-40f7-817a-df4448e356a0",
      "metadata": {
        "id": "f5204405-6a26-40f7-817a-df4448e356a0"
      },
      "outputs": [],
      "source": [
        "from sklearn.datasets import load_breast_cancer\n",
        "from sklearn.model_selection import train_test_split\n",
        "import numpy as np\n",
        "import matplotlib.pyplot as plt\n",
        "import pandas as pd\n",
        "from xgboost import XGBClassifier\n",
        "from sklearn.metrics import accuracy_score\n",
        "from sklearn.metrics import confusion_matrix\n",
        "from sklearn.metrics import plot_confusion_matrix"
      ]
    },
    {
      "cell_type": "code",
      "execution_count": null,
      "id": "e731ad44-8c50-4787-b487-bc65700773cb",
      "metadata": {
        "id": "e731ad44-8c50-4787-b487-bc65700773cb"
      },
      "outputs": [],
      "source": [
        "cancer = load_breast_cancer()"
      ]
    },
    {
      "cell_type": "code",
      "execution_count": null,
      "id": "930bd0d9-24ab-4d98-a179-2440e9e95074",
      "metadata": {
        "id": "930bd0d9-24ab-4d98-a179-2440e9e95074"
      },
      "outputs": [],
      "source": [
        "# DataFrame으로 만들기\n",
        "x_data = pd.DataFrame(cancer.data, columns = cancer.feature_names)\n",
        "y_data = pd.DataFrame(cancer.target)\n",
        "\n",
        "x_data, x_test, y_data, y_test =  train_test_split(x_data, y_data, test_size=0.1, shuffle=False)\n",
        "x_train, x_val, y_train, y_val =  train_test_split(x_data, y_data, test_size=0.1, shuffle=True, stratify = y_data, random_state=34)"
      ]
    },
    {
      "cell_type": "code",
      "execution_count": null,
      "id": "0ef3feba-63c8-4379-8835-84ac9f1e1f16",
      "metadata": {
        "colab": {
          "base_uri": "https://localhost:8080/"
        },
        "id": "0ef3feba-63c8-4379-8835-84ac9f1e1f16",
        "outputId": "a13edd6c-b954-453a-866a-206530400700"
      },
      "outputs": [
        {
          "output_type": "stream",
          "name": "stdout",
          "text": [
            "|   iter    |  target   | colsam... |    eta    |   gamma   | max_depth | min_ch... | subsample |\n",
            "-------------------------------------------------------------------------------------------------\n"
          ]
        },
        {
          "output_type": "stream",
          "name": "stderr",
          "text": [
            "<ipython-input-6-e97c359f299a>:27: DeprecationWarning: \n",
            "Passing acquisition function parameters or gaussian process parameters to maximize\n",
            "is no longer supported, and will cause an error in future releases. Instead,\n",
            "please use the \"set_gp_params\" method to set the gp params, and pass an instance\n",
            " of bayes_opt.util.UtilityFunction using the acquisition_function argument\n",
            "\n",
            "  xgb_bo.maximize(init_points=3, n_iter=5, acq='ei')\n"
          ]
        },
        {
          "output_type": "stream",
          "name": "stdout",
          "text": [
            "| \u001b[0m1        \u001b[0m | \u001b[0m0.9851   \u001b[0m | \u001b[0m0.6293   \u001b[0m | \u001b[0m0.243    \u001b[0m | \u001b[0m0.6028   \u001b[0m | \u001b[0m5.18     \u001b[0m | \u001b[0m6.695    \u001b[0m | \u001b[0m0.8938   \u001b[0m |\n",
            "| \u001b[0m2        \u001b[0m | \u001b[0m0.9833   \u001b[0m | \u001b[0m0.5626   \u001b[0m | \u001b[0m0.2784   \u001b[0m | \u001b[0m0.9637   \u001b[0m | \u001b[0m4.534    \u001b[0m | \u001b[0m8.167    \u001b[0m | \u001b[0m0.8587   \u001b[0m |\n",
            "| \u001b[0m3        \u001b[0m | \u001b[0m0.9846   \u001b[0m | \u001b[0m0.6408   \u001b[0m | \u001b[0m0.2851   \u001b[0m | \u001b[0m0.07104  \u001b[0m | \u001b[0m3.349    \u001b[0m | \u001b[0m5.081    \u001b[0m | \u001b[0m0.9498   \u001b[0m |\n",
            "| \u001b[0m4        \u001b[0m | \u001b[0m0.9841   \u001b[0m | \u001b[0m0.6086   \u001b[0m | \u001b[0m0.1274   \u001b[0m | \u001b[0m0.6461   \u001b[0m | \u001b[0m3.649    \u001b[0m | \u001b[0m8.542    \u001b[0m | \u001b[0m0.8785   \u001b[0m |\n",
            "| \u001b[95m5        \u001b[0m | \u001b[95m0.9857   \u001b[0m | \u001b[95m0.6268   \u001b[0m | \u001b[95m0.1584   \u001b[0m | \u001b[95m0.5164   \u001b[0m | \u001b[95m5.199    \u001b[0m | \u001b[95m6.216    \u001b[0m | \u001b[95m0.9371   \u001b[0m |\n",
            "| \u001b[95m6        \u001b[0m | \u001b[95m0.9867   \u001b[0m | \u001b[95m0.6954   \u001b[0m | \u001b[95m0.2663   \u001b[0m | \u001b[95m0.2667   \u001b[0m | \u001b[95m5.867    \u001b[0m | \u001b[95m5.561    \u001b[0m | \u001b[95m0.7857   \u001b[0m |\n",
            "| \u001b[95m7        \u001b[0m | \u001b[95m0.9877   \u001b[0m | \u001b[95m0.6909   \u001b[0m | \u001b[95m0.103    \u001b[0m | \u001b[95m0.862    \u001b[0m | \u001b[95m6.977    \u001b[0m | \u001b[95m5.026    \u001b[0m | \u001b[95m0.9112   \u001b[0m |\n",
            "| \u001b[95m8        \u001b[0m | \u001b[95m0.9878   \u001b[0m | \u001b[95m0.3      \u001b[0m | \u001b[95m0.1      \u001b[0m | \u001b[95m0.0      \u001b[0m | \u001b[95m7.0      \u001b[0m | \u001b[95m5.0      \u001b[0m | \u001b[95m1.0      \u001b[0m |\n",
            "=================================================================================================\n"
          ]
        }
      ],
      "source": [
        "from bayes_opt import BayesianOptimization\n",
        "import xgboost as xgb\n",
        " \n",
        "x_train_dmat = xgb.DMatrix(data=x_train, label=y_train)\n",
        " \n",
        " \n",
        "def model_evaluation(max_depth, gamma, colsample_bytree,min_child_weight,eta,subsample):\n",
        "    params = {'eval_metric': 'auc',\n",
        "              'objective':'binary:logistic',\n",
        "              'min_child_weight': min_child_weight,\n",
        "              'max_depth': int(max_depth),\n",
        "              'subsample': subsample,\n",
        "              'eta': eta,\n",
        "              'gamma': gamma,\n",
        "              'colsample_bytree': colsample_bytree}\n",
        "    # Used around 1000 boosting rounds in the full model\n",
        "    cv_result = xgb.cv(params, x_train_dmat, num_boost_round=100, nfold=3, metrics = 'auc')\n",
        "    return cv_result['test-auc-mean'].iloc[-1]\n",
        " \n",
        "xgb_bo = BayesianOptimization(model_evaluation, {'max_depth': (3, 7), \n",
        "                                             'gamma': (0, 1),\n",
        "                                             'colsample_bytree': (0.3, 0.9),\n",
        "                                            'min_child_weight': (5, 9),\n",
        "                                            'eta':(0.1, 0.3),\n",
        "                                            'subsample':(0.7,1.0)},random_state = 0 )\n",
        " \n",
        "xgb_bo.maximize(init_points=3, n_iter=5, acq='ei')"
      ]
    },
    {
      "cell_type": "code",
      "execution_count": null,
      "id": "06fe2811-bbf9-45df-ba8a-6fedd10364db",
      "metadata": {
        "colab": {
          "base_uri": "https://localhost:8080/"
        },
        "id": "06fe2811-bbf9-45df-ba8a-6fedd10364db",
        "outputId": "a23bc15c-ed87-4076-8aa3-45c375dab399"
      },
      "outputs": [
        {
          "output_type": "stream",
          "name": "stderr",
          "text": [
            "/usr/local/lib/python3.8/dist-packages/sklearn/preprocessing/_label.py:98: DataConversionWarning: A column-vector y was passed when a 1d array was expected. Please change the shape of y to (n_samples, ), for example using ravel().\n",
            "  y = column_or_1d(y, warn=True)\n",
            "/usr/local/lib/python3.8/dist-packages/sklearn/preprocessing/_label.py:133: DataConversionWarning: A column-vector y was passed when a 1d array was expected. Please change the shape of y to (n_samples, ), for example using ravel().\n",
            "  y = column_or_1d(y, warn=True)\n"
          ]
        },
        {
          "output_type": "execute_result",
          "data": {
            "text/plain": [
              "XGBClassifier(colsample_bytree=0.3, eta=0.1, max_depth=7, min_child_weight=5)"
            ]
          },
          "metadata": {},
          "execution_count": 7
        }
      ],
      "source": [
        "model = XGBClassifier(colsample_bytree =0.3, eta = 0.1, gamma = 0, max_depth = 7, min_child_weight = 5, subsample = 1)\n",
        "model.fit(x_train,y_train)"
      ]
    },
    {
      "cell_type": "code",
      "execution_count": null,
      "id": "3046852f-7637-4329-b584-f1f2eb54e8ba",
      "metadata": {
        "colab": {
          "base_uri": "https://localhost:8080/",
          "height": 395
        },
        "id": "3046852f-7637-4329-b584-f1f2eb54e8ba",
        "outputId": "6781987b-c4fe-4c00-8173-75d1b147308c"
      },
      "outputs": [
        {
          "output_type": "stream",
          "name": "stdout",
          "text": [
            "Validation Accuracy: 96.15%\n",
            "Precision : 0.938\n",
            "Recall : 1.000\n"
          ]
        },
        {
          "output_type": "stream",
          "name": "stderr",
          "text": [
            "/usr/local/lib/python3.8/dist-packages/sklearn/utils/deprecation.py:87: FutureWarning: Function plot_confusion_matrix is deprecated; Function `plot_confusion_matrix` is deprecated in 1.0 and will be removed in 1.2. Use one of the class methods: ConfusionMatrixDisplay.from_predictions or ConfusionMatrixDisplay.from_estimator.\n",
            "  warnings.warn(msg, category=FutureWarning)\n"
          ]
        },
        {
          "output_type": "display_data",
          "data": {
            "text/plain": [
              "<Figure size 432x288 with 2 Axes>"
            ],
            "image/png": "[encoded data removed]"
          },
          "metadata": {
            "needs_background": "light"
          }
        }
      ],
      "source": [
        "plot_confusion_matrix(model, x_val, y_val, cmap = plt.cm.Blues)  \n",
        "\n",
        "y_pred = model.predict(x_val)\n",
        "predictions = [np.round(value) for value in y_pred]\n",
        "accuracy = accuracy_score(y_val, predictions)\n",
        "\n",
        "cm = confusion_matrix(predictions, y_val)\n",
        "tp = cm[1, 1]\n",
        "fn = cm[1, 0]\n",
        "fp = cm[0, 1]\n",
        "tn = cm[0, 0]\n",
        "\n",
        "print('Validation Accuracy: %.2f%%' % (accuracy * 100.0))\n",
        "print('Precision : {:.3f}'.format(tp / (tp + fp)))\n",
        "print('Recall : {:.3f}'.format(tp / (tp + fn)))"
      ]
    },
    {
      "cell_type": "code",
      "execution_count": null,
      "id": "62429fa1-1bc0-4726-9b21-99f4a7e355aa",
      "metadata": {
        "colab": {
          "base_uri": "https://localhost:8080/",
          "height": 391
        },
        "id": "62429fa1-1bc0-4726-9b21-99f4a7e355aa",
        "outputId": "9b10ffaf-991c-42a3-b30b-c8339921b23b"
      },
      "outputs": [
        {
          "output_type": "stream",
          "name": "stdout",
          "text": [
            "Test Accuracy: 98.25%\n",
            "Precision : 0.977\n",
            "Recall : 1.000\n"
          ]
        },
        {
          "output_type": "stream",
          "name": "stderr",
          "text": [
            "/usr/local/lib/python3.8/dist-packages/sklearn/utils/deprecation.py:87: FutureWarning: Function plot_confusion_matrix is deprecated; Function `plot_confusion_matrix` is deprecated in 1.0 and will be removed in 1.2. Use one of the class methods: ConfusionMatrixDisplay.from_predictions or ConfusionMatrixDisplay.from_estimator.\n",
            "  warnings.warn(msg, category=FutureWarning)\n"
          ]
        },
        {
          "output_type": "display_data",
          "data": {
            "text/plain": [
              "<Figure size 432x288 with 2 Axes>"
            ],
            "image/png": "[encoded data removed]"
          },
          "metadata": {
            "needs_background": "light"
          }
        }
      ],
      "source": [
        "plot_confusion_matrix(model, x_test, y_test, cmap = plt.cm.Blues)  \n",
        "\n",
        "y_pred = model.predict(x_test)\n",
        "predictions = [np.round(value) for value in y_pred]\n",
        "accuracy = accuracy_score(y_test, predictions)\n",
        "\n",
        "\n",
        "cm = confusion_matrix(predictions, y_test)\n",
        "tp = cm[1, 1]\n",
        "fn = cm[1, 0]\n",
        "fp = cm[0, 1]\n",
        "tn = cm[0, 0]\n",
        "\n",
        "print('Test Accuracy: %.2f%%' % (accuracy * 100.0))\n",
        "print('Precision : {:.3f}'.format(tp / (tp + fp)))\n",
        "print('Recall : {:.3f}'.format(tp / (tp + fn)))"
      ]
    },
    {
      "cell_type": "code",
      "execution_count": null,
      "id": "8af8f54d-1fd7-4049-9137-86f1724ea2c8",
      "metadata": {
        "id": "8af8f54d-1fd7-4049-9137-86f1724ea2c8"
      },
      "outputs": [],
      "source": []
    }
  ],
  "metadata": {
    "kernelspec": {
      "display_name": "Python 3 (ipykernel)",
      "language": "python",
      "name": "python3"
    },
    "language_info": {
      "codemirror_mode": {
        "name": "ipython",
        "version": 3
      },
      "file_extension": ".py",
      "mimetype": "text/x-python",
      "name": "python",
      "nbconvert_exporter": "python",
      "pygments_lexer": "ipython3",
      "version": "3.9.12"
    },
    "colab": {
      "provenance": []
    }
  },
  "nbformat": 4,
  "nbformat_minor": 5
}