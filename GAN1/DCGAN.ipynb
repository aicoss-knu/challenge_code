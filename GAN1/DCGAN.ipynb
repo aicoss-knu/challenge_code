{
  "nbformat": 4,
  "nbformat_minor": 0,
  "metadata": {
    "colab": {
      "provenance": []
    },
    "kernelspec": {
      "name": "python3",
      "display_name": "Python 3"
    },
    "language_info": {
      "name": "python"
    },
    "accelerator": "GPU",
    "gpuClass": "standard",
    "widgets": {
      "application/vnd.jupyter.widget-state+json": {
        "8d0543153ffc4bd98c7154d81aed0f46": {
          "model_module": "@jupyter-widgets/controls",
          "model_name": "HBoxModel",
          "model_module_version": "1.5.0",
          "state": {
            "_dom_classes": [],
            "_model_module": "@jupyter-widgets/controls",
            "_model_module_version": "1.5.0",
            "_model_name": "HBoxModel",
            "_view_count": null,
            "_view_module": "@jupyter-widgets/controls",
            "_view_module_version": "1.5.0",
            "_view_name": "HBoxView",
            "box_style": "",
            "children": [
              "IPY_MODEL_be316eff71cb4bfe89dc27920a754538",
              "IPY_MODEL_17621049bbfa4d08add50ede51ace492",
              "IPY_MODEL_a92e5fcf450a462d98ac6f8f28928698"
            ],
            "layout": "IPY_MODEL_53c2ba1c1aeb47e8a36079ebb1445bda"
          }
        },
        "be316eff71cb4bfe89dc27920a754538": {
          "model_module": "@jupyter-widgets/controls",
          "model_name": "HTMLModel",
          "model_module_version": "1.5.0",
          "state": {
            "_dom_classes": [],
            "_model_module": "@jupyter-widgets/controls",
            "_model_module_version": "1.5.0",
            "_model_name": "HTMLModel",
            "_view_count": null,
            "_view_module": "@jupyter-widgets/controls",
            "_view_module_version": "1.5.0",
            "_view_name": "HTMLView",
            "description": "",
            "description_tooltip": null,
            "layout": "IPY_MODEL_a121392a8f29476fa23b982a330ba0a2",
            "placeholder": "​",
            "style": "IPY_MODEL_f3403044e954433bb2e480175244f00e",
            "value": "100%"
          }
        },
        "17621049bbfa4d08add50ede51ace492": {
          "model_module": "@jupyter-widgets/controls",
          "model_name": "FloatProgressModel",
          "model_module_version": "1.5.0",
          "state": {
            "_dom_classes": [],
            "_model_module": "@jupyter-widgets/controls",
            "_model_module_version": "1.5.0",
            "_model_name": "FloatProgressModel",
            "_view_count": null,
            "_view_module": "@jupyter-widgets/controls",
            "_view_module_version": "1.5.0",
            "_view_name": "ProgressView",
            "bar_style": "success",
            "description": "",
            "description_tooltip": null,
            "layout": "IPY_MODEL_0803679046e543fe9f1ebff07a82ee2c",
            "max": 170498071,
            "min": 0,
            "orientation": "horizontal",
            "style": "IPY_MODEL_f788132d4ba9441c9c06548c07b2617f",
            "value": 170498071
          }
        },
        "a92e5fcf450a462d98ac6f8f28928698": {
          "model_module": "@jupyter-widgets/controls",
          "model_name": "HTMLModel",
          "model_module_version": "1.5.0",
          "state": {
            "_dom_classes": [],
            "_model_module": "@jupyter-widgets/controls",
            "_model_module_version": "1.5.0",
            "_model_name": "HTMLModel",
            "_view_count": null,
            "_view_module": "@jupyter-widgets/controls",
            "_view_module_version": "1.5.0",
            "_view_name": "HTMLView",
            "description": "",
            "description_tooltip": null,
            "layout": "IPY_MODEL_5eaae3d805584a9aa9a17f2f635a88e3",
            "placeholder": "​",
            "style": "IPY_MODEL_af2f392407024fc4ad558d9981c91ee3",
            "value": " 170498071/170498071 [00:02&lt;00:00, 72079972.43it/s]"
          }
        },
        "53c2ba1c1aeb47e8a36079ebb1445bda": {
          "model_module": "@jupyter-widgets/base",
          "model_name": "LayoutModel",
          "model_module_version": "1.2.0",
          "state": {
            "_model_module": "@jupyter-widgets/base",
            "_model_module_version": "1.2.0",
            "_model_name": "LayoutModel",
            "_view_count": null,
            "_view_module": "@jupyter-widgets/base",
            "_view_module_version": "1.2.0",
            "_view_name": "LayoutView",
            "align_content": null,
            "align_items": null,
            "align_self": null,
            "border": null,
            "bottom": null,
            "display": null,
            "flex": null,
            "flex_flow": null,
            "grid_area": null,
            "grid_auto_columns": null,
            "grid_auto_flow": null,
            "grid_auto_rows": null,
            "grid_column": null,
            "grid_gap": null,
            "grid_row": null,
            "grid_template_areas": null,
            "grid_template_columns": null,
            "grid_template_rows": null,
            "height": null,
            "justify_content": null,
            "justify_items": null,
            "left": null,
            "margin": null,
            "max_height": null,
            "max_width": null,
            "min_height": null,
            "min_width": null,
            "object_fit": null,
            "object_position": null,
            "order": null,
            "overflow": null,
            "overflow_x": null,
            "overflow_y": null,
            "padding": null,
            "right": null,
            "top": null,
            "visibility": null,
            "width": null
          }
        },
        "a121392a8f29476fa23b982a330ba0a2": {
          "model_module": "@jupyter-widgets/base",
          "model_name": "LayoutModel",
          "model_module_version": "1.2.0",
          "state": {
            "_model_module": "@jupyter-widgets/base",
            "_model_module_version": "1.2.0",
            "_model_name": "LayoutModel",
            "_view_count": null,
            "_view_module": "@jupyter-widgets/base",
            "_view_module_version": "1.2.0",
            "_view_name": "LayoutView",
            "align_content": null,
            "align_items": null,
            "align_self": null,
            "border": null,
            "bottom": null,
            "display": null,
            "flex": null,
            "flex_flow": null,
            "grid_area": null,
            "grid_auto_columns": null,
            "grid_auto_flow": null,
            "grid_auto_rows": null,
            "grid_column": null,
            "grid_gap": null,
            "grid_row": null,
            "grid_template_areas": null,
            "grid_template_columns": null,
            "grid_template_rows": null,
            "height": null,
            "justify_content": null,
            "justify_items": null,
            "left": null,
            "margin": null,
            "max_height": null,
            "max_width": null,
            "min_height": null,
            "min_width": null,
            "object_fit": null,
            "object_position": null,
            "order": null,
            "overflow": null,
            "overflow_x": null,
            "overflow_y": null,
            "padding": null,
            "right": null,
            "top": null,
            "visibility": null,
            "width": null
          }
        },
        "f3403044e954433bb2e480175244f00e": {
          "model_module": "@jupyter-widgets/controls",
          "model_name": "DescriptionStyleModel",
          "model_module_version": "1.5.0",
          "state": {
            "_model_module": "@jupyter-widgets/controls",
            "_model_module_version": "1.5.0",
            "_model_name": "DescriptionStyleModel",
            "_view_count": null,
            "_view_module": "@jupyter-widgets/base",
            "_view_module_version": "1.2.0",
            "_view_name": "StyleView",
            "description_width": ""
          }
        },
        "0803679046e543fe9f1ebff07a82ee2c": {
          "model_module": "@jupyter-widgets/base",
          "model_name": "LayoutModel",
          "model_module_version": "1.2.0",
          "state": {
            "_model_module": "@jupyter-widgets/base",
            "_model_module_version": "1.2.0",
            "_model_name": "LayoutModel",
            "_view_count": null,
            "_view_module": "@jupyter-widgets/base",
            "_view_module_version": "1.2.0",
            "_view_name": "LayoutView",
            "align_content": null,
            "align_items": null,
            "align_self": null,
            "border": null,
            "bottom": null,
            "display": null,
            "flex": null,
            "flex_flow": null,
            "grid_area": null,
            "grid_auto_columns": null,
            "grid_auto_flow": null,
            "grid_auto_rows": null,
            "grid_column": null,
            "grid_gap": null,
            "grid_row": null,
            "grid_template_areas": null,
            "grid_template_columns": null,
            "grid_template_rows": null,
            "height": null,
            "justify_content": null,
            "justify_items": null,
            "left": null,
            "margin": null,
            "max_height": null,
            "max_width": null,
            "min_height": null,
            "min_width": null,
            "object_fit": null,
            "object_position": null,
            "order": null,
            "overflow": null,
            "overflow_x": null,
            "overflow_y": null,
            "padding": null,
            "right": null,
            "top": null,
            "visibility": null,
            "width": null
          }
        },
        "f788132d4ba9441c9c06548c07b2617f": {
          "model_module": "@jupyter-widgets/controls",
          "model_name": "ProgressStyleModel",
          "model_module_version": "1.5.0",
          "state": {
            "_model_module": "@jupyter-widgets/controls",
            "_model_module_version": "1.5.0",
            "_model_name": "ProgressStyleModel",
            "_view_count": null,
            "_view_module": "@jupyter-widgets/base",
            "_view_module_version": "1.2.0",
            "_view_name": "StyleView",
            "bar_color": null,
            "description_width": ""
          }
        },
        "5eaae3d805584a9aa9a17f2f635a88e3": {
          "model_module": "@jupyter-widgets/base",
          "model_name": "LayoutModel",
          "model_module_version": "1.2.0",
          "state": {
            "_model_module": "@jupyter-widgets/base",
            "_model_module_version": "1.2.0",
            "_model_name": "LayoutModel",
            "_view_count": null,
            "_view_module": "@jupyter-widgets/base",
            "_view_module_version": "1.2.0",
            "_view_name": "LayoutView",
            "align_content": null,
            "align_items": null,
            "align_self": null,
            "border": null,
            "bottom": null,
            "display": null,
            "flex": null,
            "flex_flow": null,
            "grid_area": null,
            "grid_auto_columns": null,
            "grid_auto_flow": null,
            "grid_auto_rows": null,
            "grid_column": null,
            "grid_gap": null,
            "grid_row": null,
            "grid_template_areas": null,
            "grid_template_columns": null,
            "grid_template_rows": null,
            "height": null,
            "justify_content": null,
            "justify_items": null,
            "left": null,
            "margin": null,
            "max_height": null,
            "max_width": null,
            "min_height": null,
            "min_width": null,
            "object_fit": null,
            "object_position": null,
            "order": null,
            "overflow": null,
            "overflow_x": null,
            "overflow_y": null,
            "padding": null,
            "right": null,
            "top": null,
            "visibility": null,
            "width": null
          }
        },
        "af2f392407024fc4ad558d9981c91ee3": {
          "model_module": "@jupyter-widgets/controls",
          "model_name": "DescriptionStyleModel",
          "model_module_version": "1.5.0",
          "state": {
            "_model_module": "@jupyter-widgets/controls",
            "_model_module_version": "1.5.0",
            "_model_name": "DescriptionStyleModel",
            "_view_count": null,
            "_view_module": "@jupyter-widgets/base",
            "_view_module_version": "1.2.0",
            "_view_name": "StyleView",
            "description_width": ""
          }
        }
      }
    }
  },
  "cells": [
    {
      "cell_type": "markdown",
      "source": [
        "**예제 1. Generator 구성하기**\n",
        "\n",
        "**예제 2. Discriminator 구성하기**\n",
        "\n",
        "**예제 3. 구성한 Generator 와 Discriminator 를 학습해 새로운 MNIST 이미지 생성**"
      ],
      "metadata": {
        "id": "_Imr0ErGcdV8"
      }
    },
    {
      "cell_type": "markdown",
      "source": [
        "*   필요한 Library Import"
      ],
      "metadata": {
        "id": "kt83mWf9chM5"
      }
    },
    {
      "cell_type": "code",
      "execution_count": null,
      "metadata": {
        "id": "40ITscKHbbIU"
      },
      "outputs": [],
      "source": [
        "import os\n",
        "import numpy as np\n",
        "import pandas as pd\n",
        "import torch\n",
        "import torchvision\n",
        "import torch.nn as nn\n",
        "import torch.optim as optim\n",
        "import matplotlib.pyplot as plt\n",
        "from IPython import display\n",
        "\n",
        "from PIL import Image\n",
        "from torch import autograd\n",
        "from torch.autograd import Variable\n",
        "from torchvision.utils import make_grid\n",
        "from torch.utils.data import Dataset, DataLoader\n",
        "from torchvision.utils import save_image\n",
        "from torchvision import transforms, datasets"
      ]
    },
    {
      "cell_type": "markdown",
      "source": [
        "*   학습에 사용될 Hyper Parameter 설정"
      ],
      "metadata": {
        "id": "t-HZQ8rRhX7I"
      }
    },
    {
      "cell_type": "code",
      "source": [
        "channel = 3\n",
        "generator_filter = 64 \n",
        "discriminator_filter = 64\n",
        "epochs = 200\n",
        "lr = 0.0002\n",
        "beta1 = 0.5\n",
        "epochs = 10\n",
        "\n",
        "image_size = 64\n",
        "batch_size = 64\n",
        "output_path = \"out\""
      ],
      "metadata": {
        "id": "dqKQli7MhYjJ"
      },
      "execution_count": null,
      "outputs": []
    },
    {
      "cell_type": "markdown",
      "source": [
        "*   학습에 필요한 CIFAR-10 데이터셋 다운로드"
      ],
      "metadata": {
        "id": "Vt-70mY8cmfT"
      }
    },
    {
      "cell_type": "code",
      "source": [
        "transform = transforms.Compose([\n",
        "        transforms.Resize([64, 64]), \n",
        "        transforms.ToTensor(),                     \n",
        "        transforms.Normalize(mean=(0.5, 0.5, 0.5), std=(0.5, 0.5, 0.5))\n",
        "])\n",
        "\n",
        "cifar10_dataset = datasets.CIFAR10(root='./data/', train=True, download=True, transform=transform)\n",
        "train_loader = torch.utils.data.DataLoader(cifar10_dataset, batch_size= batch_size, shuffle=True)"
      ],
      "metadata": {
        "colab": {
          "base_uri": "https://localhost:8080/",
          "height": 86,
          "referenced_widgets": [
            "8d0543153ffc4bd98c7154d81aed0f46",
            "be316eff71cb4bfe89dc27920a754538",
            "17621049bbfa4d08add50ede51ace492",
            "a92e5fcf450a462d98ac6f8f28928698",
            "53c2ba1c1aeb47e8a36079ebb1445bda",
            "a121392a8f29476fa23b982a330ba0a2",
            "f3403044e954433bb2e480175244f00e",
            "0803679046e543fe9f1ebff07a82ee2c",
            "f788132d4ba9441c9c06548c07b2617f",
            "5eaae3d805584a9aa9a17f2f635a88e3",
            "af2f392407024fc4ad558d9981c91ee3"
          ]
        },
        "id": "mMc1A0MdcSKn",
        "outputId": "98d3e10e-574b-44dd-9838-cfc02de6fe13"
      },
      "execution_count": null,
      "outputs": [
        {
          "output_type": "stream",
          "name": "stdout",
          "text": [
            "Downloading https://www.cs.toronto.edu/~kriz/cifar-10-python.tar.gz to ./data/cifar-10-python.tar.gz\n"
          ]
        },
        {
          "output_type": "display_data",
          "data": {
            "text/plain": [
              "  0%|          | 0/170498071 [00:00<?, ?it/s]"
            ],
            "application/vnd.jupyter.widget-view+json": {
              "version_major": 2,
              "version_minor": 0,
              "model_id": "8d0543153ffc4bd98c7154d81aed0f46"
            }
          },
          "metadata": {}
        },
        {
          "output_type": "stream",
          "name": "stdout",
          "text": [
            "Extracting ./data/cifar-10-python.tar.gz to ./data/\n"
          ]
        }
      ]
    },
    {
      "cell_type": "markdown",
      "source": [
        "*   weight 초기화"
      ],
      "metadata": {
        "id": "2B8qqCfVh2zk"
      }
    },
    {
      "cell_type": "code",
      "source": [
        "def weights_init(m):\n",
        "    classname = m.__class__.__name__\n",
        "    if classname.find('Conv') != -1:         # Conv weight init\n",
        "        m.weight.data.normal_(0.0, 0.02)\n",
        "    elif classname.find('BatchNorm') != -1:  # BatchNorm weight init\n",
        "        m.weight.data.normal_(1.0, 0.02)\n",
        "        m.bias.data.fill_(0)"
      ],
      "metadata": {
        "id": "WPUt9nn0daS_"
      },
      "execution_count": null,
      "outputs": []
    },
    {
      "cell_type": "markdown",
      "source": [
        "*   Generator 구성"
      ],
      "metadata": {
        "id": "UyV4jTXiiC-T"
      }
    },
    {
      "cell_type": "code",
      "source": [
        "class Generator(nn.Module):\n",
        "    def __init__(self):\n",
        "        super(Generator, self).__init__()\n",
        "        self.main = nn.Sequential(\n",
        "            nn.ConvTranspose2d(100, generator_filter * 8, 4, 1, 0, bias=False),\n",
        "            nn.BatchNorm2d(generator_filter * 8),\n",
        "            nn.ReLU(True),\n",
        "            nn.ConvTranspose2d(generator_filter * 8, generator_filter * 4, 4, 2, 1, bias=False),\n",
        "            nn.BatchNorm2d(generator_filter*4),\n",
        "            nn.ReLU(True),\n",
        "            nn.ConvTranspose2d(generator_filter * 4, generator_filter * 2, 4, 2, 1, bias=False),\n",
        "            nn.BatchNorm2d(generator_filter*2),\n",
        "            nn.ReLU(True),\n",
        "            nn.ConvTranspose2d(generator_filter * 2, generator_filter, 4, 2, 1, bias=False),\n",
        "            nn.BatchNorm2d(generator_filter),\n",
        "            nn.ReLU(True),\n",
        "            nn.ConvTranspose2d(generator_filter, channel, 4, 2, 1, bias=False),\n",
        "            nn.Tanh()\n",
        "        )\n",
        "\n",
        "    def forward(self, input):\n",
        "        output = self.main(input)\n",
        "        return output"
      ],
      "metadata": {
        "id": "tZz_aR5Ch_XC"
      },
      "execution_count": null,
      "outputs": []
    },
    {
      "cell_type": "markdown",
      "source": [
        "*   Discriminator 구성"
      ],
      "metadata": {
        "id": "pzxnOIZuiKqv"
      }
    },
    {
      "cell_type": "code",
      "source": [
        "class Discriminator(nn.Module):\n",
        "    def __init__(self):\n",
        "        super(Discriminator, self).__init__()\n",
        "        self.main = nn.Sequential(\n",
        "            nn.Conv2d(channel, discriminator_filter, 4,2,1,bias=False),\n",
        "            nn.LeakyReLU(0.2, inplace=True),\n",
        "            nn.Conv2d(discriminator_filter, discriminator_filter * 2, 4, 2, 1, bias=False),\n",
        "            nn.BatchNorm2d(discriminator_filter * 2),\n",
        "            nn.LeakyReLU(0.2, inplace=True),\n",
        "            nn.Conv2d(discriminator_filter*2, discriminator_filter*4, 4, 2, 1, bias=False),\n",
        "            nn.BatchNorm2d(discriminator_filter * 4),\n",
        "            nn.LeakyReLU(0.2, inplace=True),\n",
        "            nn.Conv2d(discriminator_filter * 4, discriminator_filter * 8, 4, 2, 1, bias=False),\n",
        "            nn.BatchNorm2d(discriminator_filter*8),\n",
        "            nn.LeakyReLU(0.2, inplace=True),\n",
        "            nn.Conv2d(discriminator_filter*8, 1, 4, 1, 0, bias=False),\n",
        "            nn.Sigmoid()\n",
        "        )\n",
        "\n",
        "    def forward(self, input):\n",
        "        output = self.main(input)\n",
        "        return output.view(-1, 1).squeeze(1)"
      ],
      "metadata": {
        "id": "FCEhUFwciIW4"
      },
      "execution_count": null,
      "outputs": []
    },
    {
      "cell_type": "markdown",
      "source": [
        "*   Loss Function 과 Optimization 정의"
      ],
      "metadata": {
        "id": "2j0yw-StiWNX"
      }
    },
    {
      "cell_type": "code",
      "source": [
        "generator = Generator()\n",
        "generator.apply(weights_init)\n",
        "\n",
        "discriminator = Discriminator()\n",
        "discriminator.apply(weights_init)\n",
        "\n",
        "criterion = nn.BCELoss()\n",
        "\n",
        "input = torch.FloatTensor(batch_size, 3, image_size, image_size)\n",
        "noise = torch.FloatTensor(batch_size, 100, 1, 1)\n",
        "noise = torch.FloatTensor(batch_size, 100, 1, 1).normal_(0, 1)\n",
        "noise = Variable(noise)\n",
        "\n",
        "label = torch.FloatTensor(batch_size)\n",
        "real_label = 1\n",
        "fake_label = 0"
      ],
      "metadata": {
        "id": "GXANML_yiWa2"
      },
      "execution_count": null,
      "outputs": []
    },
    {
      "cell_type": "code",
      "source": [
        "optimizerG = optim.Adam(generator.parameters(), lr=lr, betas=(beta1, 0.999))\n",
        "optimizerD = optim.Adam(discriminator.parameters(), lr=lr, betas=(beta1, 0.999))"
      ],
      "metadata": {
        "id": "rXzfmk0-igMi"
      },
      "execution_count": null,
      "outputs": []
    },
    {
      "cell_type": "markdown",
      "source": [
        "*   학습"
      ],
      "metadata": {
        "id": "U4WsSxyOip6q"
      }
    },
    {
      "cell_type": "code",
      "source": [
        "for epoch in range(epochs):\n",
        "    for i, data in enumerate(train_loader):\n",
        "        discriminator.zero_grad()\n",
        "        image, _ = data\n",
        "        batch_size = image.size(0)\n",
        "\n",
        "        input.resize_as_(image).copy_(image)\n",
        "        label.resize_(batch_size).fill_(real_label)\n",
        "\n",
        "        input_var = Variable(input)\n",
        "        label_var = Variable(label)\n",
        "\n",
        "        output = discriminator(input_var)\n",
        "        loss_D_real = criterion(output, label_var)\n",
        "        loss_D_real.backward()\n",
        "        real_score = output.data.mean()\n",
        "\n",
        "        noise.resize_(batch_size, 100, 1, 1).normal_(0, 1)\n",
        "        noise_var = Variable(noise)\n",
        "        fake = generator(noise_var)\n",
        "        label_var = Variable(label.fill_(fake_label))\n",
        "        output = discriminator(fake.detach())\n",
        "        loss_D_fake = criterion(output, label_var)\n",
        "        loss_D_fake.backward()\n",
        "        fake_score = output.data.mean()\n",
        "\n",
        "        loss_D = loss_D_real + loss_D_fake\n",
        "        optimizerD.step()\n",
        "\n",
        "        generator.zero_grad()\n",
        "        label_var = Variable(label.fill_(real_label))\n",
        "        output = discriminator(fake)\n",
        "\n",
        "        loss_G = criterion(output, label_var)\n",
        "        loss_G.backward()\n",
        "        G_score = output.data.mean()\n",
        "        optimizerG.step()\n",
        "        result_dict = {\"loss_D\":loss_D,\"loss_G\":loss_G,\"real_score\":real_score,\"fake_score\":fake_score,\"loss_G\":loss_G}"
      ],
      "metadata": {
        "id": "i6KsTA_iAR6A"
      },
      "execution_count": null,
      "outputs": []
    },
    {
      "cell_type": "markdown",
      "source": [
        "*   학습결과 확인"
      ],
      "metadata": {
        "id": "OMJhymDo_MfT"
      }
    },
    {
      "cell_type": "code",
      "source": [
        "fake_image = Generator(noise)\n",
        "\n",
        "for i in range(5):\n",
        "    fake_out = np.reshape(fake_image.data.cpu().numpy()[i],(28, 28))\n",
        "    plt.imshow(fake_out, cmap = 'gray')\n",
        "    plt.show()"
      ],
      "metadata": {
        "id": "ZATqN6Rk_KW-"
      },
      "execution_count": null,
      "outputs": []
    }
  ]
}