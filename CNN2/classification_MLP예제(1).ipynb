{
  "nbformat": 4,
  "nbformat_minor": 0,
  "metadata": {
    "colab": {
      "private_outputs": true,
      "provenance": []
    },
    "kernelspec": {
      "name": "python3",
      "display_name": "Python 3"
    },
    "language_info": {
      "name": "python"
    },
    "accelerator": "GPU",
    "gpuClass": "standard"
  },
  "cells": [
    {
      "cell_type": "code",
      "source": [
        "# Multi Class Classificationh with MLP"
      ],
      "metadata": {
        "id": "JOn_bTh2q7a6"
      },
      "execution_count": null,
      "outputs": []
    },
    {
      "cell_type": "code",
      "execution_count": null,
      "metadata": {
        "id": "NfyY4uoDpUnB"
      },
      "outputs": [],
      "source": [
        "import torch\n",
        "import torch.nn\n",
        "import torchvision\n",
        "import torchvision.transforms as transforms\n",
        "import torch.nn.functional as F\n",
        "import matplotlib.pyplot as plt"
      ]
    },
    {
      "cell_type": "code",
      "source": [
        "\n",
        "# MNIST dataset 불러오기 \n",
        "train_dataset = ???\n",
        "\n",
        "\n",
        "test_dataset = ???\n"
      ],
      "metadata": {
        "id": "8DcWXODtrCIJ"
      },
      "execution_count": null,
      "outputs": []
    },
    {
      "cell_type": "code",
      "source": [
        "#Data Loader 정의\n",
        "\n",
        "batch_size = ???\n",
        "\n",
        "train_loader = ???\n",
        "\n",
        "test_loader = ???\n"
      ],
      "metadata": {
        "id": "TklSo_EGrOfx"
      },
      "execution_count": null,
      "outputs": []
    },
    {
      "cell_type": "code",
      "source": [
        "for i , data in enumerate(train_loader):\n",
        "    ???\n",
        "    break"
      ],
      "metadata": {
        "id": "ogPL6foorZLU"
      },
      "execution_count": null,
      "outputs": []
    },
    {
      "cell_type": "code",
      "source": [
        "#모델 정의\n",
        "class MLP_model(torch.nn.Module):\n",
        "    def __init__(self, input_size, num_classes):\n",
        "        super(MLP_model, self).__init__()\n",
        "        self.input_size = input_size\n",
        "        self.num_classes = num_classes\n",
        "        ???\n",
        "        \n",
        "    def forward(self, x):\n",
        "        \n",
        "        ???\n",
        "\n",
        "        \n",
        "        return output"
      ],
      "metadata": {
        "id": "aFAjabVdstNF"
      },
      "execution_count": null,
      "outputs": []
    }
  ]
}