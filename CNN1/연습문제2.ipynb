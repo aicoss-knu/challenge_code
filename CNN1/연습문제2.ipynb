{
  "nbformat": 4,
  "nbformat_minor": 0,
  "metadata": {
    "colab": {
      "private_outputs": true,
      "provenance": [],
      "collapsed_sections": []
    },
    "kernelspec": {
      "name": "python3",
      "display_name": "Python 3"
    },
    "language_info": {
      "name": "python"
    }
  },
  "cells": [
    {
      "cell_type": "code",
      "execution_count": null,
      "metadata": {
        "id": "QICYJOBHbExk"
      },
      "outputs": [],
      "source": [
        "#연습문제 1에서 수행한 코드를 참고하여 acc에 영향을 크게 끼칠 수 있는 파라미터, 옵티마이저를 수정하여 더 높은 \n",
        "# acc 구하는 것을 목표. (다른 모델을 써도 상관없음. dataset은 연습문제 1과 같은 것으로 사용.)\n",
        "# 목표 acc 93이상. "
      ]
    },
    {
      "cell_type": "code",
      "source": [
        "###챌린지###\n",
        "#앞의 연습문제로 해결한 것을 이용하여 CNN기반 classification 모델을 4가지 이상을 활용하여 가장 높은 acc를 구하여라.\n",
        "#연습문제2에서 조정한 것보다 최적화에 더 다양한 것을 시도해볼 것(eg.인풋 이미지 Resize 등) "
      ],
      "metadata": {
        "id": "Pe2g4mxjb1C3"
      },
      "execution_count": null,
      "outputs": []
    },
    {
      "cell_type": "code",
      "source": [],
      "metadata": {
        "id": "0r_HQxs0cghb"
      },
      "execution_count": null,
      "outputs": []
    }
  ]
}