{
  "nbformat": 4,
  "nbformat_minor": 0,
  "metadata": {
    "colab": {
      "private_outputs": true,
      "provenance": [],
      "collapsed_sections": []
    },
    "kernelspec": {
      "name": "python3",
      "display_name": "Python 3"
    },
    "language_info": {
      "name": "python"
    }
  },
  "cells": [
    {
      "cell_type": "code",
      "execution_count": null,
      "metadata": {
        "id": "QICYJOBHbExk"
      },
      "outputs": [],
      "source": []
    },
    {
      "cell_type": "code",
      "source": [
        "###챌린지###\n",
        "#앞의 연습문제로 해결한 것을 이용하여 CNN기반 classification 모델을 4가지 이상을 활용하여 가장 높은 acc를 구하여라.\n",
        "#연습문제2에서 조정한 것보다 최적화에 더 다양한 것을 시도해볼 것(eg.인풋 이미지 Resize 등) "
      ],
      "metadata": {
        "id": "Pe2g4mxjb1C3"
      },
      "execution_count": null,
      "outputs": []
    },
    {
      "cell_type": "code",
      "source": [],
      "metadata": {
        "id": "0r_HQxs0cghb"
      },
      "execution_count": null,
      "outputs": []
    }
  ]
}