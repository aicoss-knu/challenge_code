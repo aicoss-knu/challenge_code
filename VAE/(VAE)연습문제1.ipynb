{
 "cells": [
  {
   "cell_type": "markdown",
   "id": "b3930d9a-426d-4a74-879e-c326b8166b00",
   "metadata": {},
   "source": [
    "# 연습문제 1. VariationalAutoEncoder 구현하기\n",
    "\n",
    "입력 : 이미지 A\n",
    "출력 : 이미지 A"
   ]
  },
  {
   "cell_type": "code",
   "execution_count": 1,
   "id": "620f8740-ecd3-4e54-a597-4286b1fba547",
   "metadata": {},
   "outputs": [
    {
     "name": "stdout",
     "output_type": "stream",
     "text": [
      "Using Device: cuda\n"
     ]
    }
   ],
   "source": [
    "import torch\n",
    "import torchvision\n",
    "import torch.nn.functional as F\n",
    "from torch import nn, optim\n",
    "from torchvision import transforms, datasets\n",
    "\n",
    "from torchvision.utils import save_image\n",
    "import os\n",
    "\n",
    "import matplotlib.pyplot as plt\n",
    "from matplotlib import cm \n",
    "import numpy as np\n",
    "import pandas as pd\n",
    "import plotly.express as px\n",
    "from tqdm.auto import tqdm\n",
    "\n",
    "USE_CUDA = torch.cuda.is_available()\n",
    "device = torch.device(\"cuda\" if USE_CUDA else \"cpu\")\n",
    "print(\"Using Device:\", device)"
   ]
  },
  {
   "cell_type": "code",
   "execution_count": 2,
   "id": "a1c54d11-6244-4a42-b3ac-8bed1013787c",
   "metadata": {},
   "outputs": [],
   "source": [
    "epochs = 50\n",
    "batch_size = 256\n",
    "learning_rate = 0.01\n",
    "hidden_size = 10"
   ]
  },
  {
   "cell_type": "code",
   "execution_count": 3,
   "id": "b01fd382-7d23-47aa-89c1-11e39894a33c",
   "metadata": {},
   "outputs": [],
   "source": [
    "# torchvision.datasets.FGVCAircraft\n",
    "dataset = datasets.FashionMNIST(root = './data/', train = True, download = True, transform = transforms.ToTensor())\n",
    "class_names = ['T-shirt/top', 'Trouser', 'Pullover', 'Dress', 'Coat',\n",
    "               'Sandal', 'Shirt', 'Sneaker', 'Bag', 'Ankle boot']\n",
    "data_loader = torch.utils.data.DataLoader(dataset = dataset, batch_size = batch_size, shuffle = True, num_workers = 2)\n",
    "\n",
    "testset = datasets.FashionMNIST(root = './data/', train = False, download = True, transform = transforms.ToTensor())\n",
    "test_loader = torch.utils.data.DataLoader(dataset = testset, batch_size = 5, shuffle = True, num_workers = 2)"
   ]
  },
  {
   "cell_type": "code",
   "execution_count": 4,
   "id": "941b5edf-26f0-49fa-88fc-0c35ef2bdd78",
   "metadata": {},
   "outputs": [],
   "source": [
    "labels_num = dataset.targets.numpy()\n",
    "labels = [class_names[i] for i in labels_num]"
   ]
  },
  {
   "cell_type": "code",
   "execution_count": 5,
   "id": "8d7af0bc-b09c-4022-a485-47d262ce8e70",
   "metadata": {},
   "outputs": [],
   "source": [
    "class VAE(nn.Module):\n",
    "    def __init__(self):\n",
    "        super().__init__()\n",
    "        self.fc1 = nn.Linear(784, 500)\n",
    "        self.fc21 = nn.Linear(500, hidden_size)\n",
    "        self.fc22 = nn.Linear(500, hidden_size)\n",
    "        self.fc3 = nn.Linear(hidden_size, 500)\n",
    "        self.fc4 = nn.Linear(500, 784)\n",
    "\n",
    "    def encode(self, x):\n",
    "        h1 = F.relu(self.fc1(x))\n",
    "        mu = self.fc21(h1)\n",
    "        logvar = self.fc22(h1)\n",
    "        return mu, logvar\n",
    "\n",
    "    def reparameterize(self, mu, logvar):\n",
    "        std = torch.exp(0.5*logvar)\n",
    "        eps = torch.rand_like(std)\n",
    "        return mu + eps*std\n",
    "\n",
    "    def decode(self, z):\n",
    "        h3 = F.relu(self.fc3(z))\n",
    "        return torch.sigmoid(self.fc4(h3))\n",
    "\n",
    "    def forward(self, x):\n",
    "        x = x.view(-1, 784)\n",
    "        mu, logvar = self.encode(x)\n",
    "        z = self.reparameterize(mu, logvar)\n",
    "        return self.decode(z), mu, logvar"
   ]
  },
  {
   "cell_type": "code",
   "execution_count": 6,
   "id": "c753b743-5f9c-4901-abda-59728292dea9",
   "metadata": {},
   "outputs": [
    {
     "name": "stderr",
     "output_type": "stream",
     "text": [
      "C:\\Users\\ABR\\anaconda3\\envs\\ispin\\lib\\site-packages\\torch\\nn\\_reduction.py:42: UserWarning: size_average and reduce args will be deprecated, please use reduction='sum' instead.\n",
      "  warnings.warn(warning.format(ret))\n"
     ]
    }
   ],
   "source": [
    "model = VAE().to(device)\n",
    "model.train()\n",
    "\n",
    "reconstruction_function = nn.BCELoss(size_average=False)\n",
    "\n",
    "# --- defines the loss function --- #\n",
    "def loss_function(recon_x, x, mu, logvar):\n",
    "    BCE = F.binary_cross_entropy(recon_x, x.view(-1, 784), reduction='sum')\n",
    "    KLD = 0.5 * torch.sum(mu.pow(2) + logvar.exp() - logvar - 1)\n",
    "\n",
    "    return BCE + KLD\n",
    "\n",
    "optimizer = torch.optim.Adam(model.parameters(), lr=learning_rate)"
   ]
  },
  {
   "cell_type": "code",
   "execution_count": 7,
   "id": "3c3a9dfe-9c7c-49cb-b3b0-1aa38470ebcf",
   "metadata": {},
   "outputs": [
    {
     "data": {
      "application/json": {
       "ascii": false,
       "bar_format": null,
       "colour": null,
       "elapsed": 0.019000768661499023,
       "initial": 0,
       "n": 0,
       "ncols": null,
       "nrows": 29,
       "postfix": null,
       "prefix": "",
       "rate": null,
       "total": 50,
       "unit": "it",
       "unit_divisor": 1000,
       "unit_scale": false
      },
      "application/vnd.jupyter.widget-view+json": {
       "model_id": "9a36ab33f6154843a96dfb96e6794f1d",
       "version_major": 2,
       "version_minor": 0
      },
      "text/plain": [
       "  0%|          | 0/50 [00:00<?, ?it/s]"
      ]
     },
     "metadata": {},
     "output_type": "display_data"
    },
    {
     "name": "stdout",
     "output_type": "stream",
     "text": [
      "Epoch :  1 , Loss :  16601973.697265625\n",
      "Epoch :  2 , Loss :  14843129.736328125\n",
      "Epoch :  3 , Loss :  14581495.97265625\n",
      "Epoch :  4 , Loss :  14425414.013671875\n",
      "Epoch :  5 , Loss :  14325164.81640625\n",
      "Epoch :  6 , Loss :  14267520.408203125\n",
      "Epoch :  7 , Loss :  14226716.978515625\n",
      "Epoch :  8 , Loss :  14190631.71875\n",
      "Epoch :  9 , Loss :  14176999.947265625\n",
      "Epoch :  10 , Loss :  14157833.796875\n",
      "Epoch :  11 , Loss :  14125056.337890625\n",
      "Epoch :  12 , Loss :  14123545.103515625\n",
      "Epoch :  13 , Loss :  14108635.99609375\n",
      "Epoch :  14 , Loss :  14117652.0859375\n",
      "Epoch :  15 , Loss :  14097710.009765625\n",
      "Epoch :  16 , Loss :  14091215.47265625\n",
      "Epoch :  17 , Loss :  14089746.3359375\n",
      "Epoch :  18 , Loss :  14075253.61328125\n",
      "Epoch :  19 , Loss :  14074716.064453125\n",
      "Epoch :  20 , Loss :  14069249.916015625\n",
      "Epoch :  21 , Loss :  14070444.02734375\n",
      "Epoch :  22 , Loss :  14064048.24609375\n",
      "Epoch :  23 , Loss :  14077351.294921875\n",
      "Epoch :  24 , Loss :  14048952.86328125\n",
      "Epoch :  25 , Loss :  14052648.2890625\n",
      "Epoch :  26 , Loss :  14058377.3203125\n",
      "Epoch :  27 , Loss :  14046465.306640625\n",
      "Epoch :  28 , Loss :  14044264.60546875\n",
      "Epoch :  29 , Loss :  14044231.169921875\n",
      "Epoch :  30 , Loss :  14067270.140625\n",
      "Epoch :  31 , Loss :  14045988.802734375\n",
      "Epoch :  32 , Loss :  14055203.482421875\n",
      "Epoch :  33 , Loss :  14035666.126953125\n",
      "Epoch :  34 , Loss :  14045887.736328125\n",
      "Epoch :  35 , Loss :  14037281.35546875\n",
      "Epoch :  36 , Loss :  14029249.91796875\n",
      "Epoch :  37 , Loss :  14041157.833984375\n",
      "Epoch :  38 , Loss :  14035638.662109375\n",
      "Epoch :  39 , Loss :  14025183.40625\n",
      "Epoch :  40 , Loss :  14025075.015625\n",
      "Epoch :  41 , Loss :  14018334.44921875\n",
      "Epoch :  42 , Loss :  14022352.451171875\n",
      "Epoch :  43 , Loss :  14027416.953125\n",
      "Epoch :  44 , Loss :  14036098.40625\n",
      "Epoch :  45 , Loss :  14025816.892578125\n",
      "Epoch :  46 , Loss :  14022672.375\n",
      "Epoch :  47 , Loss :  14024489.9140625\n",
      "Epoch :  48 , Loss :  14020657.861328125\n",
      "Epoch :  49 , Loss :  14018535.267578125\n",
      "Epoch :  50 , Loss :  14010763.7734375\n"
     ]
    }
   ],
   "source": [
    "loss_list = []\n",
    "\n",
    "for epoch in tqdm(range(1, epochs+1)):\n",
    "    loss_value = 0\n",
    "    for step, (x, label) in enumerate(data_loader):\n",
    "        # x = add_noise(x)  # 입력에 노이즈 더하기\n",
    "        x = x.view(-1, 28*28).to(device)\n",
    "        y = x.view(-1, 28*28).to(device) \n",
    "        label = label.to(device)\n",
    "        recon_data, mu, logvar = model(x)\n",
    "        loss = loss_function(recon_data, x, mu, logvar)\n",
    "        loss_value += loss.item()\n",
    "        optimizer.zero_grad()\n",
    "        loss.backward()\n",
    "        optimizer.step()\n",
    "    loss_list.append(loss_value)\n",
    "    print(\"Epoch : \", epoch, ', Loss : ', loss_value)"
   ]
  },
  {
   "cell_type": "code",
   "execution_count": 8,
   "id": "3a986147-2fea-4fd2-8747-e8b6e10d1c0b",
   "metadata": {},
   "outputs": [
    {
     "data": {
      "text/plain": [
       "[<matplotlib.lines.Line2D at 0x27f0fef36a0>]"
      ]
     },
     "execution_count": 8,
     "metadata": {},
     "output_type": "execute_result"
    },
    {
     "data": {
      "image/png": "[encoded data removed]",
      "text/plain": [
       "<Figure size 640x480 with 1 Axes>"
      ]
     },
     "metadata": {},
     "output_type": "display_data"
    }
   ],
   "source": [
    "plt.title('Loss Graph')\n",
    "plt.plot(loss_list)"
   ]
  },
  {
   "cell_type": "code",
   "execution_count": 14,
   "id": "4d013b00-014a-4050-b809-22ba26746282",
   "metadata": {},
   "outputs": [],
   "source": [
    "torch.save(model ,'VAE.pth')"
   ]
  },
  {
   "cell_type": "code",
   "execution_count": 11,
   "id": "7578f573-db12-43ef-8c94-4edb42d53f31",
   "metadata": {},
   "outputs": [],
   "source": [
    "sample_image = dataset.data[:5].view(-1, 28*28)\n",
    "sample_image = sample_image.type(torch.FloatTensor)/255.\n",
    "sample_label = dataset.targets[:5]\n",
    "\n",
    "with torch.no_grad():\n",
    "    model.eval()\n",
    "    test_image = sample_image.to(device)\n",
    "    output, mu, logvar = model(test_image)"
   ]
  },
  {
   "cell_type": "code",
   "execution_count": 12,
   "id": "6ec0ae4f-626a-4d2b-bb3b-5dc7ce13a0ee",
   "metadata": {},
   "outputs": [
    {
     "data": {
      "image/png": "[encoded data removed]",
      "text/plain": [
       "<Figure size 1000x500 with 10 Axes>"
      ]
     },
     "metadata": {},
     "output_type": "display_data"
    }
   ],
   "source": [
    "f, a = plt.subplots(2, 5, figsize=(10, 5))\n",
    "\n",
    "for i in range(5):\n",
    "    img = np.reshape(sample_image.data.numpy()[i],(28, 28)) #파이토치 텐서를 넘파이로 변환합니다.\n",
    "    a[0][i].imshow(img, cmap='gray')\n",
    "    a[0][i].set_xticks(())\n",
    "    a[0][i].set_yticks(())\n",
    "    a[0][i].set_title('GT_'+class_names[sample_label[i]])\n",
    "\n",
    "for i in range(5):\n",
    "    img = np.reshape(output.to(\"cpu\").data.numpy()[i], (28, 28))\n",
    "    a[1][i].imshow(img, cmap='gray')\n",
    "    a[1][i].set_xticks(())\n",
    "    a[1][i].set_yticks(())\n",
    "    a[1][i].set_title('Pred_'+class_names[sample_label[i]])\n",
    "plt.show()"
   ]
  }
 ],
 "metadata": {
  "kernelspec": {
   "display_name": "Python 3.9.13 ('torch')",
   "language": "python",
   "name": "python3"
  },
  "language_info": {
   "codemirror_mode": {
    "name": "ipython",
    "version": 3
   },
   "file_extension": ".py",
   "mimetype": "text/x-python",
   "name": "python",
   "nbconvert_exporter": "python",
   "pygments_lexer": "ipython3",
   "version": "3.9.13"
  },
  "vscode": {
   "interpreter": {
    "hash": "df751c8f2fa541373d41a3e488a461756e9c6d78357bc4359aa12100ff5556d6"
   }
  }
 },
 "nbformat": 4,
 "nbformat_minor": 5
}
