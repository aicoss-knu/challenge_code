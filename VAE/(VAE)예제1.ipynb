{
 "cells": [
  {
   "cell_type": "markdown",
   "id": "439c5047-a9f5-4243-8d59-dc61819a36e5",
   "metadata": {},
   "source": [
    "연습문제 1. Gaussian Distribution 생성하기\n",
    "==============================\n",
    "> Gaussian Distribution 생성해봅시다."
   ]
  },
  {
   "cell_type": "code",
   "execution_count": 1,
   "id": "351d7319-dc78-4256-a2a9-96dfe39e3c4e",
   "metadata": {},
   "outputs": [],
   "source": [
    "import numpy as np\n",
    "import scipy as sp\n",
    "import random"
   ]
  },
  {
   "cell_type": "code",
   "execution_count": 2,
   "id": "62b399d9-3b0d-4d09-8987-b5201cc00373",
   "metadata": {},
   "outputs": [],
   "source": [
    "import seaborn as sns\n",
    "from matplotlib import pyplot as plt\n",
    "%matplotlib inline"
   ]
  },
  {
   "cell_type": "code",
   "execution_count": 3,
   "id": "c6db1722-7916-4976-9be1-27e54406983c",
   "metadata": {},
   "outputs": [
    {
     "data": {
      "text/plain": [
       "array([-10,  -8,  -6,  -4,  -2,   0,   2,   4,   6,   8])"
      ]
     },
     "execution_count": 3,
     "metadata": {},
     "output_type": "execute_result"
    }
   ],
   "source": [
    "data = np.arange(-10, 10, 2)\n",
    "data"
   ]
  },
  {
   "cell_type": "code",
   "execution_count": 4,
   "id": "78b75cd2-9a29-45ef-abcc-23ff5dbfc2e6",
   "metadata": {},
   "outputs": [
    {
     "name": "stdout",
     "output_type": "stream",
     "text": [
      "평균값 리스트 :  [-2, -4, -8]\n",
      "분산값 :  1\n"
     ]
    }
   ],
   "source": [
    "pick = 3\n",
    "sample_size = 1000\n",
    "mu_list = [random.choice(data) for i in range(pick)]\n",
    "std = 1\n",
    "print('평균값 리스트 : ', mu_list)\n",
    "print('분산값 : ', std)"
   ]
  },
  {
   "cell_type": "code",
   "execution_count": 5,
   "id": "a9f5b618-5ea2-434b-a944-4773626b759d",
   "metadata": {},
   "outputs": [],
   "source": [
    "distribution = np.random.normal(loc=mu_list[0], scale = std, size = sample_size)\n",
    "for i, mu in enumerate(mu_list[1:]):\n",
    "    distribution = np.append(distribution, np.random.normal(loc=mu, scale = std, size=sample_size))"
   ]
  },
  {
   "cell_type": "code",
   "execution_count": 24,
   "id": "5b0c1ee6-dd46-4aff-8cf1-0b56393f8d60",
   "metadata": {},
   "outputs": [
    {
     "data": {
      "text/plain": [
       "(array([ 15.,  48., 108., 201., 227., 202., 124.,  53.,  15.,   7.]),\n",
       " array([-10.76664217, -10.16238488,  -9.55812758,  -8.95387029,\n",
       "         -8.34961299,  -7.7453557 ,  -7.14109841,  -6.53684111,\n",
       "         -5.93258382,  -5.32832652,  -4.72406923]),\n",
       " <BarContainer object of 10 artists>)"
      ]
     },
     "execution_count": 24,
     "metadata": {},
     "output_type": "execute_result"
    },
    {
     "data": {
      "image/png": "[encoded data removed]",
      "text/plain": [
       "<Figure size 640x480 with 1 Axes>"
      ]
     },
     "metadata": {},
     "output_type": "display_data"
    }
   ],
   "source": [
    "# fig, ax = plt.subplots(figsize=(15, 4))\n",
    "fig, ax = plt.subplots()\n",
    "plt.hist(distribution[:sample_size])\n",
    "plt.hist(distribution[sample_size:sample_size*2])\n",
    "plt.hist(distribution[sample_size*2:])\n",
    "\n",
    "# sns.histplot(distribution[:sample_size], ax=ax, rug=True)\n",
    "# sns.displot(distribution[sample_size:sample_size*2], ax=ax, rug=True)\n",
    "# sns.displot(distribution[sample_size*2:], ax=ax, rug=True)"
   ]
  },
  {
   "cell_type": "code",
   "execution_count": null,
   "id": "5566c2ab-4e5f-413c-b4d5-3578f4dc2e1e",
   "metadata": {},
   "outputs": [
    {
     "data": {
      "text/plain": [
       "(3000,)"
      ]
     },
     "execution_count": 14,
     "metadata": {},
     "output_type": "execute_result"
    }
   ],
   "source": []
  },
  {
   "cell_type": "code",
   "execution_count": null,
   "id": "d3fbeb99",
   "metadata": {},
   "outputs": [],
   "source": []
  }
 ],
 "metadata": {
  "kernelspec": {
   "display_name": "Python 3.9.13 ('torch')",
   "language": "python",
   "name": "python3"
  },
  "language_info": {
   "codemirror_mode": {
    "name": "ipython",
    "version": 3
   },
   "file_extension": ".py",
   "mimetype": "text/x-python",
   "name": "python",
   "nbconvert_exporter": "python",
   "pygments_lexer": "ipython3",
   "version": "3.9.13"
  },
  "vscode": {
   "interpreter": {
    "hash": "df751c8f2fa541373d41a3e488a461756e9c6d78357bc4359aa12100ff5556d6"
   }
  }
 },
 "nbformat": 4,
 "nbformat_minor": 5
}
