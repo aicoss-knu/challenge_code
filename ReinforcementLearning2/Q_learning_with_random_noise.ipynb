{
  "nbformat": 4,
  "nbformat_minor": 0,
  "metadata": {
    "colab": {
      "provenance": []
    },
    "kernelspec": {
      "name": "python3",
      "display_name": "Python 3"
    },
    "language_info": {
      "name": "python"
    },
    "accelerator": "GPU",
    "gpuClass": "standard"
  },
  "cells": [
    {
      "cell_type": "markdown",
      "source": [
        "**예제 1. Q-Learning 구성하기 (random noise 방식)**\n",
        "\n",
        "**예제 2. 성능 평가**"
      ],
      "metadata": {
        "id": "Madv5-_u2nyf"
      }
    },
    {
      "cell_type": "markdown",
      "source": [
        "\n",
        "*   게임 환경 생성"
      ],
      "metadata": {
        "id": "gevC6ttJ3KOS"
      }
    },
    {
      "cell_type": "code",
      "source": [
        "import numpy as np\n",
        "import matplotlib.pyplot as plt\n",
        "\n",
        "import gym\n",
        "from gym.envs.registration import register\n",
        "\n",
        "register(\n",
        "    id='FrozenLake-v3',\n",
        "    entry_point = 'gym.envs.toy_text:FrozenLakeEnv',\n",
        "    kwargs={'map_name':'4x4',\n",
        "           'is_slippery':False}\n",
        ")\n",
        "\n",
        "env = gym.make('FrozenLake-v3')"
      ],
      "metadata": {
        "id": "NROE49hr2xe3",
        "colab": {
          "base_uri": "https://localhost:8080/"
        },
        "outputId": "c01dd8a3-f758-4496-e23a-e3d61f7a6376"
      },
      "execution_count": null,
      "outputs": [
        {
          "output_type": "stream",
          "name": "stderr",
          "text": [
            "/usr/local/lib/python3.8/dist-packages/gym/core.py:317: DeprecationWarning: \u001b[33mWARN: Initializing wrapper in old step API which returns one bool instead of two. It is recommended to set `new_step_api=True` to use new step API. This will be the default behaviour in future.\u001b[0m\n",
            "  deprecation(\n",
            "/usr/local/lib/python3.8/dist-packages/gym/wrappers/step_api_compatibility.py:39: DeprecationWarning: \u001b[33mWARN: Initializing environment in old step API which returns one bool instead of two. It is recommended to set `new_step_api=True` to use new step API. This will be the default behaviour in future.\u001b[0m\n",
            "  deprecation(\n"
          ]
        }
      ]
    },
    {
      "cell_type": "markdown",
      "source": [
        "*   Q-Table & 파라미터 초기화"
      ],
      "metadata": {
        "id": "HKAX_54v3PIt"
      }
    },
    {
      "cell_type": "code",
      "source": [
        "Q = np.zeros([env.observation_space.n, env.action_space.n])\n",
        "\n",
        "dis = 0.99\n",
        "episode = 1000\n",
        "rewardlist = []"
      ],
      "metadata": {
        "id": "lJ9FctwK3Nuj"
      },
      "execution_count": null,
      "outputs": []
    },
    {
      "cell_type": "markdown",
      "source": [
        "*   Q-Learning with Random Noise "
      ],
      "metadata": {
        "id": "8pV1QWlf3hiy"
      }
    },
    {
      "cell_type": "code",
      "source": [
        "for i in range(episode) : \n",
        "    state = env.reset()\n",
        "    total_reward= 0\n",
        "    done = False\n",
        "    \n",
        "    while not done : \n",
        "        action = np.argmax(Q[state, :] + np.random.randn(1, env.action_space.n) / (i+1))\n",
        "        new_state, reward, done, _ = env.step(action)\n",
        "        Q[state, action] = reward + dis * np.max(Q[new_state, :])\n",
        "        total_reward += reward\n",
        "        state = new_state\n",
        "        \n",
        "    rewardlist.append(total_reward)\n",
        "    "
      ],
      "metadata": {
        "id": "X4OcthTn3N2l"
      },
      "execution_count": null,
      "outputs": []
    },
    {
      "cell_type": "markdown",
      "source": [
        "*   성능 평가"
      ],
      "metadata": {
        "id": "4xJJ8NS03xDe"
      }
    },
    {
      "cell_type": "code",
      "source": [
        "print(\"Success : \"+str(sum(rewardlist) / episode))\n",
        "print(\"Q-Table\")\n",
        "print(Q)\n",
        "\n",
        "plt.bar(range(len(rewardlist)), rewardlist, color=\"red\")\n",
        "plt.show()"
      ],
      "metadata": {
        "id": "oZGhrlfJ3N5j",
        "colab": {
          "base_uri": "https://localhost:8080/",
          "height": 597
        },
        "outputId": "a1953a45-0f05-433d-dfd5-39d120371049"
      },
      "execution_count": null,
      "outputs": [
        {
          "output_type": "stream",
          "name": "stdout",
          "text": [
            "Success : 0.75\n",
            "Q-Table\n",
            "[[0.         0.         0.95099005 0.        ]\n",
            " [0.         0.         0.96059601 0.        ]\n",
            " [0.         0.970299   0.         0.        ]\n",
            " [0.         0.         0.         0.        ]\n",
            " [0.         0.         0.         0.        ]\n",
            " [0.         0.         0.         0.        ]\n",
            " [0.         0.9801     0.         0.        ]\n",
            " [0.         0.         0.         0.        ]\n",
            " [0.         0.         0.         0.        ]\n",
            " [0.         0.         0.         0.        ]\n",
            " [0.         0.99       0.         0.        ]\n",
            " [0.         0.         0.         0.        ]\n",
            " [0.         0.         0.         0.        ]\n",
            " [0.         0.         0.         0.        ]\n",
            " [0.         0.         1.         0.        ]\n",
            " [0.         0.         0.         0.        ]]\n"
          ]
        },
        {
          "output_type": "display_data",
          "data": {
            "text/plain": [
              "<Figure size 432x288 with 1 Axes>"
            ],
            "image/png": "[encoded data removed]"
          },
          "metadata": {
            "needs_background": "light"
          }
        }
      ]
    }
  ]
}