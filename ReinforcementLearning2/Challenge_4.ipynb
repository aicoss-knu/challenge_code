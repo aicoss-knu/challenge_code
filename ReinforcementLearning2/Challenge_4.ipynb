{
  "nbformat": 4,
  "nbformat_minor": 0,
  "metadata": {
    "colab": {
      "provenance": []
    },
    "kernelspec": {
      "name": "python3",
      "display_name": "Python 3"
    },
    "language_info": {
      "name": "python"
    }
  },
  "cells": [
    {
      "cell_type": "code",
      "source": [
        "!pip install gym[classic_control]\n",
        "!pip install pygame"
      ],
      "metadata": {
        "colab": {
          "base_uri": "https://localhost:8080/"
        },
        "id": "Dl1EWca9wUG-",
        "outputId": "a58b4aec-d375-4dac-d9d9-3cdc6a479548"
      },
      "execution_count": null,
      "outputs": [
        {
          "output_type": "stream",
          "name": "stdout",
          "text": [
            "Looking in indexes: https://pypi.org/simple, https://us-python.pkg.dev/colab-wheels/public/simple/\n",
            "Requirement already satisfied: gym[classic_control] in /usr/local/lib/python3.8/dist-packages (0.25.2)\n",
            "Requirement already satisfied: cloudpickle>=1.2.0 in /usr/local/lib/python3.8/dist-packages (from gym[classic_control]) (1.5.0)\n",
            "Requirement already satisfied: importlib-metadata>=4.8.0 in /usr/local/lib/python3.8/dist-packages (from gym[classic_control]) (4.13.0)\n",
            "Requirement already satisfied: gym-notices>=0.0.4 in /usr/local/lib/python3.8/dist-packages (from gym[classic_control]) (0.0.8)\n",
            "Requirement already satisfied: numpy>=1.18.0 in /usr/local/lib/python3.8/dist-packages (from gym[classic_control]) (1.21.6)\n",
            "Requirement already satisfied: pygame==2.1.0 in /usr/local/lib/python3.8/dist-packages (from gym[classic_control]) (2.1.0)\n",
            "Requirement already satisfied: zipp>=0.5 in /usr/local/lib/python3.8/dist-packages (from importlib-metadata>=4.8.0->gym[classic_control]) (3.10.0)\n",
            "Looking in indexes: https://pypi.org/simple, https://us-python.pkg.dev/colab-wheels/public/simple/\n",
            "Requirement already satisfied: pygame in /usr/local/lib/python3.8/dist-packages (2.1.0)\n"
          ]
        }
      ]
    },
    {
      "cell_type": "code",
      "source": [
        "import os\n",
        "os.environ['SDL_VIDEODRIVER']='windib'\n",
        "import pygame\n",
        "pygame.display.set_mode((640,480))"
      ],
      "metadata": {
        "colab": {
          "base_uri": "https://localhost:8080/"
        },
        "id": "zI6mLjQmwjfM",
        "outputId": "cae7a184-6ddc-4afd-d9e5-aea07f700afb"
      },
      "execution_count": null,
      "outputs": [
        {
          "output_type": "execute_result",
          "data": {
            "text/plain": [
              "<Surface(640x480x32 SW)>"
            ]
          },
          "metadata": {},
          "execution_count": 17
        }
      ]
    },
    {
      "cell_type": "code",
      "execution_count": null,
      "metadata": {
        "id": "D_PlUeBy-lAa"
      },
      "outputs": [],
      "source": [
        "import torch\n",
        "import torch.nn as nn\n",
        "import torch.optim as optim\n",
        "import torch.nn.functional as F\n",
        "\n",
        "import matplotlib.pyplot as plt\n",
        "import random \n",
        "import math\n",
        "import gym\n",
        "from collections import deque"
      ]
    },
    {
      "cell_type": "code",
      "source": [
        "episode = 100\n",
        "start_eps = 0.9\n",
        "end_eps = 0.05 \n",
        "eps_decay = 200    \n",
        "lr = 0.001\n",
        "batch_size= 64\n",
        "dis = 0.99"
      ],
      "metadata": {
        "id": "rpRdo3QW_dmy"
      },
      "execution_count": null,
      "outputs": []
    },
    {
      "cell_type": "code",
      "source": [
        "class DQN:\n",
        "    def __init__(self):\n",
        "        self.model = nn.Sequential(\n",
        "            nn.Linear(4, 256),\n",
        "            nn.ReLU(),\n",
        "            nn.Linear(256, 2)\n",
        "        )\n",
        "        self.optimizer = optim.Adam(self.model.parameters(), lr)\n",
        "        self.steps = 0 \n",
        "        self.memory = deque(maxlen=10000)\n",
        "\n",
        "    def memorize(self, state, action, reward, next_state):\n",
        "        self.memory.append((state,\n",
        "                            action,\n",
        "                            torch.FloatTensor([reward]),\n",
        "                            torch.FloatTensor([next_state])))\n",
        "    \n",
        "    def act(self, state):\n",
        "        eps_threshold = end_eps + (start_eps - end_eps) * math.exp(-1. * self.steps / eps_decay)\n",
        "        self.steps += 1\n",
        "        if random.random() > eps_threshold:\n",
        "            return self.model(state).data.max(1)[1].view(1, 1)\n",
        "        else:\n",
        "            return torch.LongTensor([[random.randrange(2)]])\n",
        "    \n",
        "    def learn(self):\n",
        "        if len(self.memory) < batch_size:\n",
        "            return\n",
        "        batch = random.sample(self.memory, batch_size)\n",
        "        states, actions, rewards, next_states = zip(*batch)\n",
        "        states = torch.cat(states)\n",
        "        actions = torch.cat(actions)\n",
        "        rewards = torch.cat(rewards)\n",
        "        next_states = torch.cat(next_states)\n",
        "\n",
        "        current_q = self.model(states).gather(1, actions)\n",
        "        max_next_q = self.model(next_states).detach().max(1)[0]\n",
        "        expected_q = rewards + (dis * max_next_q)\n",
        "\n",
        "        loss = F.mse_loss(current_q.squeeze(), expected_q)\n",
        "        self.optimizer.zero_grad()\n",
        "        loss.backward()\n",
        "        self.optimizer.step()"
      ],
      "metadata": {
        "id": "Vf6B29sv_zwx"
      },
      "execution_count": null,
      "outputs": []
    },
    {
      "cell_type": "code",
      "source": [
        "env = gym.make('CartPole-v0')\n",
        "DQN = DQN()\n",
        "score = []"
      ],
      "metadata": {
        "id": "JnY7D3Em_1rP",
        "colab": {
          "base_uri": "https://localhost:8080/"
        },
        "outputId": "0f4a7058-89e7-4f66-fb70-e2b0a58c97cd"
      },
      "execution_count": null,
      "outputs": [
        {
          "output_type": "stream",
          "name": "stderr",
          "text": [
            "/usr/local/lib/python3.8/dist-packages/gym/envs/registration.py:593: UserWarning: \u001b[33mWARN: The environment CartPole-v0 is out of date. You should consider upgrading to version `v1`.\u001b[0m\n",
            "  logger.warn(\n",
            "/usr/local/lib/python3.8/dist-packages/gym/core.py:317: DeprecationWarning: \u001b[33mWARN: Initializing wrapper in old step API which returns one bool instead of two. It is recommended to set `new_step_api=True` to use new step API. This will be the default behaviour in future.\u001b[0m\n",
            "  deprecation(\n",
            "/usr/local/lib/python3.8/dist-packages/gym/wrappers/step_api_compatibility.py:39: DeprecationWarning: \u001b[33mWARN: Initializing environment in old step API which returns one bool instead of two. It is recommended to set `new_step_api=True` to use new step API. This will be the default behaviour in future.\u001b[0m\n",
            "  deprecation(\n"
          ]
        }
      ]
    },
    {
      "cell_type": "code",
      "source": [
        "for e in range(1, episode+1):\n",
        "    state = env.reset()\n",
        "    steps = 0\n",
        "    while True:\n",
        "        env.render()\n",
        "        state = torch.FloatTensor([state])\n",
        "        action = DQN.act(state) \n",
        "        next_state, reward, done, _ = env.step(action.item())\n",
        "\n",
        "        if done:\n",
        "            reward = -1\n",
        "\n",
        "        DQN.memorize(state, action, reward, next_state)\n",
        "        DQN.learn()\n",
        "\n",
        "        state = next_state\n",
        "        steps += 1\n",
        "\n",
        "        if done:\n",
        "            print(\"횟수:{0} 점수: {1}\".format(e, steps))\n",
        "            score.append(steps)\n",
        "            break"
      ],
      "metadata": {
        "id": "FbDR9-N0_3hK",
        "colab": {
          "base_uri": "https://localhost:8080/"
        },
        "outputId": "ab9157de-16ca-4c28-ec6d-cb4d8cf25182"
      },
      "execution_count": null,
      "outputs": [
        {
          "output_type": "stream",
          "name": "stderr",
          "text": [
            "/usr/local/lib/python3.8/dist-packages/gym/core.py:49: DeprecationWarning: \u001b[33mWARN: You are calling render method, but you didn't specified the argument render_mode at environment initialization. To maintain backward compatibility, the environment will render in human mode.\n",
            "If you want to render in human mode, initialize the environment in this way: gym.make('EnvName', render_mode='human') and don't call the render method.\n",
            "See here for more information: https://www.gymlibrary.ml/content/api/\u001b[0m\n",
            "  deprecation(\n"
          ]
        },
        {
          "output_type": "stream",
          "name": "stdout",
          "text": [
            "횟수:1 점수: 12\n",
            "횟수:2 점수: 10\n",
            "횟수:3 점수: 10\n",
            "횟수:4 점수: 11\n",
            "횟수:5 점수: 10\n",
            "횟수:6 점수: 9\n",
            "횟수:7 점수: 10\n",
            "횟수:8 점수: 9\n",
            "횟수:9 점수: 10\n",
            "횟수:10 점수: 9\n",
            "횟수:11 점수: 10\n",
            "횟수:12 점수: 11\n",
            "횟수:13 점수: 10\n",
            "횟수:14 점수: 11\n",
            "횟수:15 점수: 9\n",
            "횟수:16 점수: 10\n",
            "횟수:17 점수: 10\n",
            "횟수:18 점수: 10\n",
            "횟수:19 점수: 9\n",
            "횟수:20 점수: 10\n",
            "횟수:21 점수: 10\n",
            "횟수:22 점수: 8\n",
            "횟수:23 점수: 9\n",
            "횟수:24 점수: 10\n",
            "횟수:25 점수: 10\n",
            "횟수:26 점수: 9\n",
            "횟수:27 점수: 9\n",
            "횟수:28 점수: 9\n",
            "횟수:29 점수: 10\n",
            "횟수:30 점수: 10\n",
            "횟수:31 점수: 10\n",
            "횟수:32 점수: 11\n",
            "횟수:33 점수: 9\n",
            "횟수:34 점수: 8\n",
            "횟수:35 점수: 8\n",
            "횟수:36 점수: 12\n",
            "횟수:37 점수: 8\n",
            "횟수:38 점수: 10\n",
            "횟수:39 점수: 10\n",
            "횟수:40 점수: 10\n",
            "횟수:41 점수: 9\n",
            "횟수:42 점수: 8\n",
            "횟수:43 점수: 8\n",
            "횟수:44 점수: 9\n",
            "횟수:45 점수: 10\n",
            "횟수:46 점수: 10\n",
            "횟수:47 점수: 10\n",
            "횟수:48 점수: 8\n",
            "횟수:49 점수: 9\n",
            "횟수:50 점수: 9\n",
            "횟수:51 점수: 10\n",
            "횟수:52 점수: 9\n",
            "횟수:53 점수: 9\n",
            "횟수:54 점수: 11\n",
            "횟수:55 점수: 10\n",
            "횟수:56 점수: 9\n",
            "횟수:57 점수: 11\n",
            "횟수:58 점수: 10\n",
            "횟수:59 점수: 9\n",
            "횟수:60 점수: 9\n",
            "횟수:61 점수: 9\n",
            "횟수:62 점수: 8\n",
            "횟수:63 점수: 10\n",
            "횟수:64 점수: 9\n",
            "횟수:65 점수: 11\n",
            "횟수:66 점수: 10\n",
            "횟수:67 점수: 10\n",
            "횟수:68 점수: 8\n",
            "횟수:69 점수: 8\n",
            "횟수:70 점수: 10\n",
            "횟수:71 점수: 11\n",
            "횟수:72 점수: 10\n",
            "횟수:73 점수: 8\n",
            "횟수:74 점수: 10\n",
            "횟수:75 점수: 10\n",
            "횟수:76 점수: 9\n",
            "횟수:77 점수: 10\n",
            "횟수:78 점수: 9\n",
            "횟수:79 점수: 10\n",
            "횟수:80 점수: 10\n",
            "횟수:81 점수: 10\n",
            "횟수:82 점수: 9\n",
            "횟수:83 점수: 9\n",
            "횟수:84 점수: 8\n",
            "횟수:85 점수: 9\n",
            "횟수:86 점수: 8\n",
            "횟수:87 점수: 9\n",
            "횟수:88 점수: 10\n",
            "횟수:89 점수: 10\n",
            "횟수:90 점수: 8\n",
            "횟수:91 점수: 10\n",
            "횟수:92 점수: 10\n",
            "횟수:93 점수: 9\n",
            "횟수:94 점수: 11\n",
            "횟수:95 점수: 10\n",
            "횟수:96 점수: 8\n",
            "횟수:97 점수: 8\n",
            "횟수:98 점수: 9\n",
            "횟수:99 점수: 10\n",
            "횟수:100 점수: 10\n"
          ]
        }
      ]
    },
    {
      "cell_type": "code",
      "source": [],
      "metadata": {
        "id": "wNSz9OnNxSkg"
      },
      "execution_count": null,
      "outputs": []
    }
  ]
}