{
  "nbformat": 4,
  "nbformat_minor": 0,
  "metadata": {
    "colab": {
      "provenance": []
    },
    "kernelspec": {
      "name": "python3",
      "display_name": "Python 3"
    },
    "language_info": {
      "name": "python"
    },
    "accelerator": "GPU",
    "gpuClass": "standard"
  },
  "cells": [
    {
      "cell_type": "markdown",
      "source": [
        "**예제 1. Q-Learning 구성하기 (E-greedy 방식)**\n",
        "\n",
        "**예제 2. 성능 평가**"
      ],
      "metadata": {
        "id": "U1ftq9oy8EOs"
      }
    },
    {
      "cell_type": "markdown",
      "source": [
        "\n",
        "*   게임 환경 생성"
      ],
      "metadata": {
        "id": "fkVpWMJs8Jm3"
      }
    },
    {
      "cell_type": "code",
      "source": [
        "import numpy as np\n",
        "import matplotlib.pyplot as plt\n",
        "\n",
        "import gym\n",
        "from gym.envs.registration import register\n",
        "\n",
        "register(\n",
        "    id='FrozenLake-v3',\n",
        "    entry_point = 'gym.envs.toy_text:FrozenLakeEnv',\n",
        "    kwargs={'map_name':'4x4',\n",
        "           'is_slippery':False}\n",
        ")\n",
        "\n",
        "env = gym.make('FrozenLake-v3')"
      ],
      "metadata": {
        "id": "qub7Hukm8HHI",
        "colab": {
          "base_uri": "https://localhost:8080/"
        },
        "outputId": "a466d073-a637-45ef-cb23-d11a6ee79edd"
      },
      "execution_count": null,
      "outputs": [
        {
          "output_type": "stream",
          "name": "stderr",
          "text": [
            "/usr/local/lib/python3.8/dist-packages/gym/core.py:317: DeprecationWarning: \u001b[33mWARN: Initializing wrapper in old step API which returns one bool instead of two. It is recommended to set `new_step_api=True` to use new step API. This will be the default behaviour in future.\u001b[0m\n",
            "  deprecation(\n",
            "/usr/local/lib/python3.8/dist-packages/gym/wrappers/step_api_compatibility.py:39: DeprecationWarning: \u001b[33mWARN: Initializing environment in old step API which returns one bool instead of two. It is recommended to set `new_step_api=True` to use new step API. This will be the default behaviour in future.\u001b[0m\n",
            "  deprecation(\n"
          ]
        }
      ]
    },
    {
      "cell_type": "markdown",
      "source": [
        "*   Q-Table & 파라미터 초기화"
      ],
      "metadata": {
        "id": "jeaTyPlp8M06"
      }
    },
    {
      "cell_type": "code",
      "source": [
        "Q = np.zeros([env.observation_space.n, env.action_space.n])\n",
        "\n",
        "dis = 0.99\n",
        "episode = 1000\n",
        "rewardlist = []"
      ],
      "metadata": {
        "id": "aHV3Xtcu8HKQ"
      },
      "execution_count": null,
      "outputs": []
    },
    {
      "cell_type": "markdown",
      "source": [
        "*   Q-Learning with E-greedy"
      ],
      "metadata": {
        "id": "r6OQvRw78Ppj"
      }
    },
    {
      "cell_type": "code",
      "source": [
        "for i in range(episode) : \n",
        "    state = env.reset()\n",
        "    total_reward = 0\n",
        "    done = False\n",
        "\n",
        "    e = 1./((i / 100) + 1)\n",
        "\n",
        "    while not done : \n",
        "        if np.random.rand(1) < e :\n",
        "            action = env.action_space.sample()\n",
        "        else : \n",
        "            action = np.argmax(Q[state, :])\n",
        "        new_state, reward, done, _ = env.step(action)\n",
        "        Q[state, action] = reward + dis * np.max(Q[new_state, :])\n",
        "        total_reward += reward\n",
        "        state = new_state\n",
        "        \n",
        "    rewardlist.append(total_reward)"
      ],
      "metadata": {
        "id": "Vz1WoB0-8SL4"
      },
      "execution_count": null,
      "outputs": []
    },
    {
      "cell_type": "markdown",
      "source": [
        "*   성능 평가"
      ],
      "metadata": {
        "id": "caKfIbUq85aa"
      }
    },
    {
      "cell_type": "code",
      "source": [
        "print(\"Success : \"+str(sum(rewardlist) / episode))\n",
        "print(\"Q-Table\")\n",
        "print(Q)\n",
        "\n",
        "plt.bar(range(len(rewardlist)), rewardlist, color=\"red\")\n",
        "plt.show()"
      ],
      "metadata": {
        "id": "4MX968rQ86vQ",
        "colab": {
          "base_uri": "https://localhost:8080/",
          "height": 597
        },
        "outputId": "95642e91-244c-47e0-e236-e0aa0c5194a0"
      },
      "execution_count": null,
      "outputs": [
        {
          "output_type": "stream",
          "name": "stdout",
          "text": [
            "Success : 0.622\n",
            "Q-Table\n",
            "[[0.94148015 0.95099005 0.93206535 0.94148015]\n",
            " [0.94148015 0.         0.         0.93206535]\n",
            " [0.         0.         0.         0.        ]\n",
            " [0.         0.         0.         0.        ]\n",
            " [0.95099005 0.96059601 0.         0.94148015]\n",
            " [0.         0.         0.         0.        ]\n",
            " [0.         0.         0.         0.        ]\n",
            " [0.         0.         0.         0.        ]\n",
            " [0.96059601 0.         0.970299   0.95099005]\n",
            " [0.96059601 0.9801     0.9801     0.        ]\n",
            " [0.970299   0.99       0.         0.        ]\n",
            " [0.         0.         0.         0.        ]\n",
            " [0.         0.         0.         0.        ]\n",
            " [0.         0.9801     0.99       0.970299  ]\n",
            " [0.9801     0.99       1.         0.9801    ]\n",
            " [0.         0.         0.         0.        ]]\n"
          ]
        },
        {
          "output_type": "display_data",
          "data": {
            "text/plain": [
              "<Figure size 432x288 with 1 Axes>"
            ],
            "image/png": "[encoded data removed]"
          },
          "metadata": {
            "needs_background": "light"
          }
        }
      ]
    },
    {
      "cell_type": "code",
      "source": [],
      "metadata": {
        "id": "bcXRxbibrTTN"
      },
      "execution_count": null,
      "outputs": []
    }
  ]
}